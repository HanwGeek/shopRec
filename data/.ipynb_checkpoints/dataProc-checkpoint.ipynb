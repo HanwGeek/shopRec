{
 "cells": [
  {
   "cell_type": "code",
   "execution_count": 7,
   "metadata": {},
   "outputs": [],
   "source": [
    "import pandas as pd\n",
    "import pymongo\n",
    "import requests\n",
    "import json\n",
    "import time"
   ]
  },
  {
   "cell_type": "code",
   "execution_count": 2,
   "metadata": {},
   "outputs": [],
   "source": [
    "API_KEY = '42aabe7a7b92bfcf410adf2a04849744'\n",
    "API_KEY2 = '449abe88aa052cf504a6f762cc2a4e64'\n",
    "client = pymongo.MongoClient(\"mongodb://101.132.171.223:27017/\")\n",
    "db = client['shoprec']\n",
    "col = db['restaurant']"
   ]
  },
  {
   "cell_type": "code",
   "execution_count": 3,
   "metadata": {},
   "outputs": [],
   "source": [
    "def getCoord(x):\n",
    "    time.sleep(1)\n",
    "    addr = x['address']\n",
    "    r = requests.get('https://restapi.amap.com/v3/geocode/geo?', params={\n",
    "        'key': API_KEY2,\n",
    "        'address': addr,\n",
    "        'city': '武汉'\n",
    "    })\n",
    "    r.encoding = 'utf-8'\n",
    "    content = json.loads(r.text)\n",
    "    if content['count'] == '0':\n",
    "        return -1\n",
    "    lon, lat = content['geocodes'][0]['location'].split(',')\n",
    "    x['lon'] = lon\n",
    "    x['lat'] = lat\n",
    "    return x"
   ]
  },
  {
   "cell_type": "code",
   "execution_count": 4,
   "metadata": {},
   "outputs": [],
   "source": [
    "res = list(col.find())"
   ]
  },
  {
   "cell_type": "code",
   "execution_count": 5,
   "metadata": {},
   "outputs": [],
   "source": [
    "data = []\n",
    "non_data = []"
   ]
  },
  {
   "cell_type": "code",
   "execution_count": null,
   "metadata": {},
   "outputs": [],
   "source": [
    "# data = list(map(updateInfo, res))\n",
    "\n",
    "for i in range(6204, len(res)):\n",
    "    if res[i]['address'] == '':\n",
    "        continue\n",
    "    _data = getCoord(res[i])\n",
    "    if _data == -1:\n",
    "        non_data.append(res[i])\n",
    "        print(i, 'not found')\n",
    "    else:\n",
    "        data.append(_data)\n",
    "        if i % 50 == 0:\n",
    "            print(i, '/', len(res))"
   ]
  },
  {
   "cell_type": "code",
   "execution_count": 8,
   "metadata": {},
   "outputs": [],
   "source": [
    "data = pd.read_excel(\"./restautant.xlsx\")"
   ]
  },
  {
   "cell_type": "code",
   "execution_count": 9,
   "metadata": {},
   "outputs": [
    {
     "data": {
      "text/plain": [
       "9022"
      ]
     },
     "execution_count": 9,
     "metadata": {},
     "output_type": "execute_result"
    }
   ],
   "source": [
    "len(data)"
   ]
  },
  {
   "cell_type": "code",
   "execution_count": null,
   "metadata": {},
   "outputs": [],
   "source": []
  }
 ],
 "metadata": {
  "kernelspec": {
   "display_name": "Python 3",
   "language": "python",
   "name": "python3"
  },
  "language_info": {
   "codemirror_mode": {
    "name": "ipython",
    "version": 3
   },
   "file_extension": ".py",
   "mimetype": "text/x-python",
   "name": "python",
   "nbconvert_exporter": "python",
   "pygments_lexer": "ipython3",
   "version": "3.6.6"
  }
 },
 "nbformat": 4,
 "nbformat_minor": 2
}
