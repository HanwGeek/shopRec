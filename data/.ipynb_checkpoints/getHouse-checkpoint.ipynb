{
 "cells": [
  {
   "cell_type": "code",
   "execution_count": 1,
   "metadata": {},
   "outputs": [],
   "source": [
    "from bs4 import BeautifulSoup\n",
    "from selenium import webdriver\n",
    "import pymongo\n",
    "# import synonyms\n",
    "import time\n",
    "import random\n",
    "\n",
    "ops = webdriver.ChromeOptions()\n",
    "ops.add_argument('--headless')\n",
    "ops.add_argument('--no-sandbox')\n",
    "driver = webdriver.Chrome(options=ops)\n",
    "# driver.implicitly_wait(5)"
   ]
  },
  {
   "cell_type": "code",
   "execution_count": 2,
   "metadata": {},
   "outputs": [],
   "source": [
    "URL = 'https://wh.58.com/shangpucz/pn'\n",
    "client = pymongo.MongoClient(\"mongodb://101.132.171.223:27017/\")\n",
    "db = client['shoprec']\n",
    "col = db['house']"
   ]
  },
  {
   "cell_type": "code",
   "execution_count": 9,
   "metadata": {},
   "outputs": [],
   "source": [
    "PAGE_NUM = 70\n",
    "def getHouse(idx):\n",
    "    driver = webdriver.Chrome(options=ops)\n",
    "    url = URL + str(idx)\n",
    "    print(url)\n",
    "    driver.get(url)\n",
    "    soup = BeautifulSoup(driver.page_source, 'html.parser')\n",
    "    body = soup.body\n",
    "    ul = body.find('ul', attrs={'class': 'house-list-wrap'})\n",
    "    lis = ul.find_all('li')\n",
    "    return list(map(getInfo, lis))\n",
    "    \n",
    "def getInfo(li):\n",
    "    info = li.contents[3]\n",
    "    price_info = li.contents[7]\n",
    "    title = info.find('span', attrs={'class': 'title_des'}).text\n",
    "    price = price_info.find('b').text\n",
    "    baseInfo = info.find_all('p', attrs={'class': 'baseinfo'})\n",
    "    _type = \"\"\n",
    "    if len(baseInfo[0]) == 7:       \n",
    "        area = baseInfo[0].contents[1].text\n",
    "        _type = baseInfo[0].contents[3].text\n",
    "        status = baseInfo[0].contents[5].text\n",
    "    elif len(baseInfo[0]) == 5:\n",
    "        area = baseInfo[0].contents[1].text\n",
    "        status = baseInfo[0].contents[3].text  \n",
    "    location = baseInfo[1].contents[1].text\n",
    "    address = \"\"\n",
    "    if len(baseInfo[1]) == 7:\n",
    "        address = baseInfo[1].contents[3].text\n",
    "    tags_info = info.find('p', attrs={'class': 'tag-wrap'})\n",
    "    tags = []\n",
    "    if tags_info != None:\n",
    "        tags = tags_info.find_all('span')\n",
    "        tags = list(map(lambda x: x.text, tags))\n",
    "    return {\n",
    "        'title': title,\n",
    "        'price': price,\n",
    "        'area': area,\n",
    "        'type': _type,\n",
    "        'location': location,\n",
    "        'address': address,\n",
    "        'status': status,\n",
    "        'tags': tags\n",
    "    }"
   ]
  },
  {
   "cell_type": "code",
   "execution_count": 10,
   "metadata": {},
   "outputs": [
    {
     "name": "stdout",
     "output_type": "stream",
     "text": [
      "https://wh.58.com/shangpucz/pn1\n",
      "Insertting...\n",
      "https://wh.58.com/shangpucz/pn2\n",
      "Insertting...\n",
      "https://wh.58.com/shangpucz/pn3\n",
      "Insertting...\n",
      "https://wh.58.com/shangpucz/pn4\n",
      "<p class=\"baseinfo\">\n",
      "<span>洪山 -珞狮南路</span>\n",
      "<!-- <span> \n",
      "\t\t\t\t                \t<i class=\"subway-icon\"></i>距离10号线草桥地铁站557米\n",
      "\t\t\t\t\t\t\t\t</span> -->\n",
      "</p>\n"
     ]
    },
    {
     "ename": "AttributeError",
     "evalue": "'Comment' object has no attribute 'text'",
     "output_type": "error",
     "traceback": [
      "\u001b[0;31m---------------------------------------------------------------------------\u001b[0m",
      "\u001b[0;31mAttributeError\u001b[0m                            Traceback (most recent call last)",
      "\u001b[0;32m<ipython-input-10-9737d4225786>\u001b[0m in \u001b[0;36m<module>\u001b[0;34m\u001b[0m\n\u001b[1;32m      1\u001b[0m \u001b[0;32mfor\u001b[0m \u001b[0mi\u001b[0m \u001b[0;32min\u001b[0m \u001b[0mrange\u001b[0m\u001b[0;34m(\u001b[0m\u001b[0;36m1\u001b[0m\u001b[0;34m,\u001b[0m \u001b[0mPAGE_NUM\u001b[0m \u001b[0;34m+\u001b[0m \u001b[0;36m1\u001b[0m\u001b[0;34m)\u001b[0m\u001b[0;34m:\u001b[0m\u001b[0;34m\u001b[0m\u001b[0m\n\u001b[0;32m----> 2\u001b[0;31m     \u001b[0mdata\u001b[0m \u001b[0;34m=\u001b[0m \u001b[0mgetHouse\u001b[0m\u001b[0;34m(\u001b[0m\u001b[0mi\u001b[0m\u001b[0;34m)\u001b[0m\u001b[0;34m\u001b[0m\u001b[0m\n\u001b[0m\u001b[1;32m      3\u001b[0m \u001b[0;31m#     col.insert_many(data)\u001b[0m\u001b[0;34m\u001b[0m\u001b[0;34m\u001b[0m\u001b[0m\n\u001b[1;32m      4\u001b[0m     \u001b[0mprint\u001b[0m\u001b[0;34m(\u001b[0m\u001b[0;34m\"Insertting...\"\u001b[0m\u001b[0;34m)\u001b[0m\u001b[0;34m\u001b[0m\u001b[0m\n\u001b[1;32m      5\u001b[0m     \u001b[0mtime\u001b[0m\u001b[0;34m.\u001b[0m\u001b[0msleep\u001b[0m\u001b[0;34m(\u001b[0m\u001b[0mrandom\u001b[0m\u001b[0;34m.\u001b[0m\u001b[0mrandint\u001b[0m\u001b[0;34m(\u001b[0m\u001b[0;36m1\u001b[0m\u001b[0;34m,\u001b[0m \u001b[0;36m5\u001b[0m\u001b[0;34m)\u001b[0m\u001b[0;34m)\u001b[0m\u001b[0;34m\u001b[0m\u001b[0m\n",
      "\u001b[0;32m<ipython-input-9-26c716af69f0>\u001b[0m in \u001b[0;36mgetHouse\u001b[0;34m(idx)\u001b[0m\n\u001b[1;32m      9\u001b[0m     \u001b[0mul\u001b[0m \u001b[0;34m=\u001b[0m \u001b[0mbody\u001b[0m\u001b[0;34m.\u001b[0m\u001b[0mfind\u001b[0m\u001b[0;34m(\u001b[0m\u001b[0;34m'ul'\u001b[0m\u001b[0;34m,\u001b[0m \u001b[0mattrs\u001b[0m\u001b[0;34m=\u001b[0m\u001b[0;34m{\u001b[0m\u001b[0;34m'class'\u001b[0m\u001b[0;34m:\u001b[0m \u001b[0;34m'house-list-wrap'\u001b[0m\u001b[0;34m}\u001b[0m\u001b[0;34m)\u001b[0m\u001b[0;34m\u001b[0m\u001b[0m\n\u001b[1;32m     10\u001b[0m     \u001b[0mlis\u001b[0m \u001b[0;34m=\u001b[0m \u001b[0mul\u001b[0m\u001b[0;34m.\u001b[0m\u001b[0mfind_all\u001b[0m\u001b[0;34m(\u001b[0m\u001b[0;34m'li'\u001b[0m\u001b[0;34m)\u001b[0m\u001b[0;34m\u001b[0m\u001b[0m\n\u001b[0;32m---> 11\u001b[0;31m     \u001b[0;32mreturn\u001b[0m \u001b[0mlist\u001b[0m\u001b[0;34m(\u001b[0m\u001b[0mmap\u001b[0m\u001b[0;34m(\u001b[0m\u001b[0mgetInfo\u001b[0m\u001b[0;34m,\u001b[0m \u001b[0mlis\u001b[0m\u001b[0;34m)\u001b[0m\u001b[0;34m)\u001b[0m\u001b[0;34m\u001b[0m\u001b[0m\n\u001b[0m\u001b[1;32m     12\u001b[0m \u001b[0;34m\u001b[0m\u001b[0m\n\u001b[1;32m     13\u001b[0m \u001b[0;32mdef\u001b[0m \u001b[0mgetInfo\u001b[0m\u001b[0;34m(\u001b[0m\u001b[0mli\u001b[0m\u001b[0;34m)\u001b[0m\u001b[0;34m:\u001b[0m\u001b[0;34m\u001b[0m\u001b[0m\n",
      "\u001b[0;32m<ipython-input-9-26c716af69f0>\u001b[0m in \u001b[0;36mgetInfo\u001b[0;34m(li)\u001b[0m\n\u001b[1;32m     28\u001b[0m         \u001b[0mprint\u001b[0m\u001b[0;34m(\u001b[0m\u001b[0mbaseInfo\u001b[0m\u001b[0;34m[\u001b[0m\u001b[0;36m1\u001b[0m\u001b[0;34m]\u001b[0m\u001b[0;34m)\u001b[0m\u001b[0;34m\u001b[0m\u001b[0m\n\u001b[1;32m     29\u001b[0m     \u001b[0mlocation\u001b[0m \u001b[0;34m=\u001b[0m \u001b[0mbaseInfo\u001b[0m\u001b[0;34m[\u001b[0m\u001b[0;36m1\u001b[0m\u001b[0;34m]\u001b[0m\u001b[0;34m.\u001b[0m\u001b[0mcontents\u001b[0m\u001b[0;34m[\u001b[0m\u001b[0;36m1\u001b[0m\u001b[0;34m]\u001b[0m\u001b[0;34m.\u001b[0m\u001b[0mtext\u001b[0m\u001b[0;34m\u001b[0m\u001b[0m\n\u001b[0;32m---> 30\u001b[0;31m     \u001b[0maddress\u001b[0m \u001b[0;34m=\u001b[0m \u001b[0mbaseInfo\u001b[0m\u001b[0;34m[\u001b[0m\u001b[0;36m1\u001b[0m\u001b[0;34m]\u001b[0m\u001b[0;34m.\u001b[0m\u001b[0mcontents\u001b[0m\u001b[0;34m[\u001b[0m\u001b[0;36m3\u001b[0m\u001b[0;34m]\u001b[0m\u001b[0;34m.\u001b[0m\u001b[0mtext\u001b[0m\u001b[0;34m\u001b[0m\u001b[0m\n\u001b[0m\u001b[1;32m     31\u001b[0m     \u001b[0mtags_info\u001b[0m \u001b[0;34m=\u001b[0m \u001b[0minfo\u001b[0m\u001b[0;34m.\u001b[0m\u001b[0mfind\u001b[0m\u001b[0;34m(\u001b[0m\u001b[0;34m'p'\u001b[0m\u001b[0;34m,\u001b[0m \u001b[0mattrs\u001b[0m\u001b[0;34m=\u001b[0m\u001b[0;34m{\u001b[0m\u001b[0;34m'class'\u001b[0m\u001b[0;34m:\u001b[0m \u001b[0;34m'tag-wrap'\u001b[0m\u001b[0;34m}\u001b[0m\u001b[0;34m)\u001b[0m\u001b[0;34m\u001b[0m\u001b[0m\n\u001b[1;32m     32\u001b[0m     \u001b[0mtags\u001b[0m \u001b[0;34m=\u001b[0m \u001b[0;34m[\u001b[0m\u001b[0;34m]\u001b[0m\u001b[0;34m\u001b[0m\u001b[0m\n",
      "\u001b[0;32m/usr/lib/python3/dist-packages/bs4/element.py\u001b[0m in \u001b[0;36m__getattr__\u001b[0;34m(self, attr)\u001b[0m\n\u001b[1;32m    711\u001b[0m             raise AttributeError(\n\u001b[1;32m    712\u001b[0m                 \"'%s' object has no attribute '%s'\" % (\n\u001b[0;32m--> 713\u001b[0;31m                     self.__class__.__name__, attr))\n\u001b[0m\u001b[1;32m    714\u001b[0m \u001b[0;34m\u001b[0m\u001b[0m\n\u001b[1;32m    715\u001b[0m     \u001b[0;32mdef\u001b[0m \u001b[0moutput_ready\u001b[0m\u001b[0;34m(\u001b[0m\u001b[0mself\u001b[0m\u001b[0;34m,\u001b[0m \u001b[0mformatter\u001b[0m\u001b[0;34m=\u001b[0m\u001b[0;34m\"minimal\"\u001b[0m\u001b[0;34m)\u001b[0m\u001b[0;34m:\u001b[0m\u001b[0;34m\u001b[0m\u001b[0m\n",
      "\u001b[0;31mAttributeError\u001b[0m: 'Comment' object has no attribute 'text'"
     ]
    }
   ],
   "source": [
    "for i in range(1, PAGE_NUM + 1):\n",
    "    data = getHouse(i)\n",
    "    col.insert_many(data)\n",
    "    print(\"Insertting...\")\n",
    "    time.sleep(random.randint(1, 5))"
   ]
  },
  {
   "cell_type": "code",
   "execution_count": null,
   "metadata": {},
   "outputs": [],
   "source": []
  }
 ],
 "metadata": {
  "kernelspec": {
   "display_name": "Python 3",
   "language": "python",
   "name": "python3"
  },
  "language_info": {
   "codemirror_mode": {
    "name": "ipython",
    "version": 3
   },
   "file_extension": ".py",
   "mimetype": "text/x-python",
   "name": "python",
   "nbconvert_exporter": "python",
   "pygments_lexer": "ipython3",
   "version": "3.5.2"
  }
 },
 "nbformat": 4,
 "nbformat_minor": 2
}
