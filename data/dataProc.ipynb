{
 "cells": [
  {
   "cell_type": "code",
   "execution_count": 1,
   "metadata": {},
   "outputs": [],
   "source": [
    "import pymongo\n",
    "import requests\n",
    "import json\n",
    "import time"
   ]
  },
  {
   "cell_type": "code",
   "execution_count": 9,
   "metadata": {},
   "outputs": [],
   "source": [
    "API_KEY = '42aabe7a7b92bfcf410adf2a04849744'\n",
    "API_KEY2 = '449abe88aa052cf504a6f762cc2a4e64'\n",
    "client = pymongo.MongoClient(\"mongodb://101.132.171.223:27017/\")\n",
    "db = client['shoprec']\n",
    "col = db['restaurant']"
   ]
  },
  {
   "cell_type": "code",
   "execution_count": 12,
   "metadata": {},
   "outputs": [],
   "source": [
    "def getCoord(x):\n",
    "    time.sleep(1)\n",
    "    addr = x['address']\n",
    "    r = requests.get('https://restapi.amap.com/v3/geocode/geo?', params={\n",
    "        'key': API_KEY2,\n",
    "        'address': addr,\n",
    "        'city': '武汉'\n",
    "    })\n",
    "    r.encoding = 'utf-8'\n",
    "    content = json.loads(r.text)\n",
    "    if content['count'] == '0':\n",
    "        return -1\n",
    "    lon, lat = content['geocodes'][0]['location'].split(',')\n",
    "    x['lon'] = lon\n",
    "    x['lat'] = lat\n",
    "    return x"
   ]
  },
  {
   "cell_type": "code",
   "execution_count": 4,
   "metadata": {},
   "outputs": [],
   "source": [
    "res = list(col.find())"
   ]
  },
  {
   "cell_type": "code",
   "execution_count": 5,
   "metadata": {},
   "outputs": [],
   "source": [
    "data = []\n",
    "non_data = []"
   ]
  },
  {
   "cell_type": "code",
   "execution_count": 13,
   "metadata": {},
   "outputs": [
    {
     "name": "stdout",
     "output_type": "stream",
     "text": [
      "6250 / 9022\n",
      "6300 / 9022\n",
      "6350 / 9022\n",
      "6400 / 9022\n",
      "6450 / 9022\n",
      "6500 / 9022\n",
      "6550 / 9022\n",
      "6600 / 9022\n",
      "6650 / 9022\n",
      "6700 / 9022\n",
      "6750 / 9022\n",
      "6800 / 9022\n",
      "6850 / 9022\n",
      "6900 / 9022\n",
      "6950 / 9022\n",
      "7000 / 9022\n",
      "7050 / 9022\n",
      "7100 / 9022\n",
      "7150 / 9022\n",
      "7200 / 9022\n",
      "7250 / 9022\n",
      "7300 / 9022\n",
      "7350 / 9022\n",
      "7400 / 9022\n",
      "7450 / 9022\n",
      "7500 / 9022\n",
      "7550 / 9022\n",
      "7600 / 9022\n",
      "7650 / 9022\n",
      "7700 / 9022\n",
      "7750 / 9022\n",
      "7800 / 9022\n",
      "7850 / 9022\n",
      "7900 / 9022\n",
      "7950 / 9022\n",
      "8000 / 9022\n",
      "8050 / 9022\n",
      "8100 / 9022\n",
      "8150 / 9022\n",
      "8200 / 9022\n",
      "8250 / 9022\n",
      "8300 / 9022\n",
      "8350 / 9022\n",
      "8400 / 9022\n",
      "8450 / 9022\n",
      "8500 / 9022\n",
      "8550 / 9022\n",
      "8600 / 9022\n",
      "8650 / 9022\n",
      "8700 / 9022\n",
      "8750 / 9022\n",
      "8800 / 9022\n",
      "8850 / 9022\n",
      "8900 / 9022\n",
      "8950 / 9022\n",
      "9000 / 9022\n"
     ]
    }
   ],
   "source": [
    "# data = list(map(updateInfo, res))\n",
    "\n",
    "for i in range(6204, len(res)):\n",
    "    if res[i]['address'] == '':\n",
    "        continue\n",
    "    _data = getCoord(res[i])\n",
    "    if _data == -1:\n",
    "        non_data.append(res[i])\n",
    "        print(i, 'not found')\n",
    "    else:\n",
    "        data.append(_data)\n",
    "        if i % 50 == 0:\n",
    "            print(i, '/', len(res))"
   ]
  },
  {
   "cell_type": "code",
   "execution_count": 14,
   "metadata": {},
   "outputs": [
    {
     "data": {
      "text/plain": [
       "2885"
      ]
     },
     "execution_count": 14,
     "metadata": {},
     "output_type": "execute_result"
    }
   ],
   "source": [
    "len(data)"
   ]
  },
  {
   "cell_type": "code",
   "execution_count": 15,
   "metadata": {},
   "outputs": [],
   "source": [
    "_data = [dict(t) for t in set([tuple(d.items()) for d in data])]"
   ]
  },
  {
   "cell_type": "code",
   "execution_count": 16,
   "metadata": {},
   "outputs": [
    {
     "data": {
      "text/plain": [
       "2831"
      ]
     },
     "execution_count": 16,
     "metadata": {},
     "output_type": "execute_result"
    }
   ],
   "source": [
    "len(_data)"
   ]
  },
  {
   "cell_type": "code",
   "execution_count": 23,
   "metadata": {},
   "outputs": [],
   "source": [
    "import pandas as pd\n",
    "df = pd.io.json.json_normalize(_data)"
   ]
  },
  {
   "cell_type": "code",
   "execution_count": 17,
   "metadata": {},
   "outputs": [
    {
     "data": {
      "text/plain": [
       "<pymongo.results.InsertManyResult at 0x215be81cc48>"
      ]
     },
     "execution_count": 17,
     "metadata": {},
     "output_type": "execute_result"
    }
   ],
   "source": [
    "_col = db['rest']\n",
    "_col.insert_many(_data)"
   ]
  },
  {
   "cell_type": "code",
   "execution_count": null,
   "metadata": {},
   "outputs": [],
   "source": []
  }
 ],
 "metadata": {
  "kernelspec": {
   "display_name": "Python 3",
   "language": "python",
   "name": "python3"
  },
  "language_info": {
   "codemirror_mode": {
    "name": "ipython",
    "version": 3
   },
   "file_extension": ".py",
   "mimetype": "text/x-python",
   "name": "python",
   "nbconvert_exporter": "python",
   "pygments_lexer": "ipython3",
   "version": "3.6.6"
  }
 },
 "nbformat": 4,
 "nbformat_minor": 2
}
