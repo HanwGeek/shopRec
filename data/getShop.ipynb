{
 "cells": [
  {
   "cell_type": "code",
   "execution_count": 1,
   "metadata": {},
   "outputs": [],
   "source": [
    "import pandas as pd\n",
    "import pymongo\n",
    "import requests\n",
    "import datetime\n",
    "import jieba\n",
    "import jieba.analyse\n",
    "import base64\n",
    "import random\n",
    "import time\n",
    "import zlib\n",
    "import json"
   ]
  },
  {
   "cell_type": "code",
   "execution_count": 2,
   "metadata": {},
   "outputs": [],
   "source": [
    "URL = 'https://wh.meituan.com/meishi/'\n",
    "_cookies = ['_lxsdk_s=b458c64cc9ef92adce92c199a6b7%7C%7C4; __mta=214784936.1512623224439.1512623224439.1512623226558.2; client-id=8d050bd8-51b6-46fc-be96-cb6871d91fe7; ci=89; webloc_geo=31.778615%2C119.958931%2Cwgs84; _lxsdk=1602f5eb154c8-05c63a41825c168-1b451e24-13c680-1602f5eb154c8; uuid=73a65301-f351-4cdd-bfcd-35ae40aea13c',\n",
    "           '_lxsdk_s=55618265813fc43043ce562acf29%7C%7C2; ci=89; __mta=252597174.1512623399814.1512623399814.1512623399814.1; _lxsdk=1602f6161c1c8-034ae66c3842d88-1b451e24-13c680-1602f6161c170; client-id=8ca2fe5f-ba96-41ae-b919-f8d3665e2f10; webloc_geo=31.778620%2C119.958935%2Cwgs84; uuid=ae73c608-8db3-4724-b4bf-91f4a8c701c5',\n",
    "           '_lxsdk_s=4ffb12d5a90c2361745e6d0993a2%7C%7C2; ci=89; __mta=40613533.1512623465821.1512623465821.1512623465821.1; client-id=a31f1c79-3287-4ef1-8bd3-56bfb431a7da; webloc_geo=31.778616%2C119.958936%2Cwgs84; _lxsdk=1602f6262117d-0f173d7fde38d18-1b451e24-13c680-1602f626212c8; uuid=ba1b457e-ae34-4b56-bf7b-9bf3579ac0ae',\n",
    "           '_lxsdk_s=4ba654e682eaf4d69efb90ae9cf1%7C%7C2; __mta=152351622.1512623525333.1512623525333.1512623525333.1; ci=89; client-id=e8101f58-a778-4332-81c2-75ba410b2bb3; webloc_geo=31.778611%2C119.958934%2Cwgs84; _lxsdk=1602f634c448d-0c74adf6d00e2e8-1b451e24-13c680-1602f634c45c8; uuid=e98a7e32-7511-4b40-ab3d-d88011a06471',\n",
    "           '_lxsdk_s=f6511ca715103c33b7bb4aea1e9f%7C%7C2; __mta=40629917.1512623573270.1512623573270.1512623573270.1; ci=89; client-id=c69db65e-b5d1-4fe6-aa7a-340e3608aeb6; webloc_geo=31.778617%2C119.958930%2Cwgs84; _lxsdk=1602f64072fc8-04cf33034885b08-1b451e24-13c680-1602f640730c8; uuid=33b52a9f-14ea-4f80-9a97-8386fc9fb0a2',\n",
    "           '_lxsdk_s=38327d7cfda78d0cfc4810838c32%7C%7C2; __mta=150795529.1512623625315.1512623625315.1512623625315.1; ci=89; client-id=221306b1-bfb7-4cfa-ab3f-2e4a85089864; webloc_geo=31.778610%2C119.958933%2Cwgs84; _lxsdk=1602f64d24531-0623a27320ba75-1b451e24-13c680-1602f64d246c8; uuid=85f7949c-284c-4ae6-b5f8-18aa1c6dc016',\n",
    "           '_lxsdk_s=c2f111bde916cad4d653e07a35c9%7C%7C2; __mta=42950426.1512623702441.1512623702441.1512623702441.1; _lxsdk=1602f66000dc8-0bb60c750cf17b8-1b451e24-13c680-1602f66000d7f; ci=89; client-id=38cc3a86-fe57-491b-8564-c9b1a251cd4a; webloc_geo=31.778617%2C119.958931%2Cwgs84; uuid=095c6c87-a397-4cc4-a3fc-1c3e35eca3be',\n",
    "           '_lxsdk_s=fd711080efee1adf6de57c1d4c88%7C%7C2; ci=89; webloc_geo=31.778612%2C119.958939%2Cwgs84; __mta=218070313.1512623752950.1512623752950.1512623752950.1; _lxsdk=1602f66c53e35-0b363d23b0e435-1b451e24-13c680-1602f66c53fc8; client-id=1a4a2af3-4201-4e61-bf26-92016709444b; uuid=9361e591-ada9-43c0-a762-b7b5559c649a',\n",
    "           '_lxsdk_s=810677247f21b53cd75826e60cb8%7C%7C2; __mta=146594315.1512623869611.1512623869611.1512623869611.1; _lxsdk=1602f688ce80-074a1ec97ff043-1b451e24-13c680-1602f688ce9c8; ci=89; client-id=e60488fa-51fe-4d12-99a3-257a5a0853cc; webloc_geo=31.778609%2C119.958928%2Cwgs84; uuid=948eec52-7d10-46ce-b689-92140842f3f0',\n",
    "           '_lxsdk_s=c44c26606c13c651ab5a20447428%7C%7C2; __mta=89516452.1512623906613.1512623906613.1512623906613.1; _lxsdk=1602f691da0c8-024ebcb15833bc-1b451e24-13c680-1602f691da04b; ci=89; client-id=a6846506-a50a-4612-8106-ff31978802a8; webloc_geo=31.778607%2C119.958929%2Cwgs84; uuid=6ee14a07-2d20-460e-87c2-001806dfdf1b',\n",
    "           '_lxsdk_s=071dfe26ce64d6e46d03323d2f71%7C%7C2; __mta=210099498.1512623985254.1512623985254.1512623985254.1; ci=89; client-id=f2cea0fa-0d83-479a-a863-f2b7156fb392; webloc_geo=31.778621%2C119.958925%2Cwgs84; _lxsdk=1602f6a4f88c8-0ce1602d9c121a-1b451e24-13c680-1602f6a4f88c8; uuid=122a1bf8-f588-4b2d-a509-2bb45aaf1be9',\n",
    "           '_lxsdk_s=833017bd50026c6c57b327f1f51a%7C%7C2; __mta=244702778.1512624031536.1512624031536.1512624031536.1; ci=89; client-id=ec7106e4-9dda-4ce0-aa8d-c12288812644; webloc_geo=31.778622%2C119.958921%2Cwgs84; _lxsdk=1602f6b0459c8-011b3f8b51c9328-1b451e24-13c680-1602f6b045ac8; uuid=04d6dbed-d679-4e9d-a0c7-4ea1b2343513',\n",
    "           '_lxsdk_s=9a68aaba42beb1ebdfc3e726d94e%7C%7C2; ci=89; webloc_geo=31.778629%2C119.958912%2Cwgs84; __mta=45406747.1512624277952.1512624277952.1512624277952.1; _lxsdk=1602f6ec7b84-095c2ecf9438458-1b451e24-13c680-1602f6ec7b9c8; uuid=33acafd1-4a03-4f0f-9572-1ccbfd570efc; client-id=77353c1f-ba56-4ac9-bbb3-c7a689858182',\n",
    "           '_lxsdk_s=c1508df449b0616ba37c5d9166f2%7C%7C2; __mta=216814121.1512624317347.1512624317347.1512624317347.1; ci=89; client-id=5d8e3ff2-5370-4c08-855e-9d26e5187040; webloc_geo=31.778633%2C119.958912%2Cwgs84; _lxsdk=1602f6f6187a2-029abec138ea508-1b451e24-13c680-1602f6f6188c8; uuid=1a808ef4-511d-44ba-acfd-d6339ddb92f8',\n",
    "           '_lxsdk_s=7a249ecc9a048cbb826ea3b1f4e7%7C%7C2; __mta=256753588.1512624355644.1512624355644.1512624355644.1; _lxsdk=1602f6ff822c8-01f025c7119f968-1b451e24-13c680-1602f6ff823c8; ci=89; client-id=33339c7c-4dd0-4da8-8617-add389e72438; webloc_geo=31.778634%2C119.958912%2Cwgs84; uuid=92e531c6-4620-453e-ad8d-0e67644404ad',\n",
    "           '_lxsdk_s=93f6847b5f37e552ae083beb48c2%7C%7C2; __mta=218397606.1512624389136.1512624389136.1512624389136.1; ci=89; client-id=21540b20-0240-48fa-ae1e-c1ce4dba892f; webloc_geo=31.778631%2C119.958925%2Cwgs84; _lxsdk=1602f707a3d3-0d7db668e6d9498-1b451e24-13c680-1602f707a3ec8; uuid=507d006a-6b37-4ff9-9299-88eae1bc0982',\n",
    "           '_lxsdk_s=0ffdd4e2dddd57d3c05606eb82f3%7C%7C2; __mta=141367821.1512624428164.1512624428164.1512624428164.1; ci=89; client-id=d6e8de67-48b8-4262-b3b3-47851c46db5c; webloc_geo=31.778620%2C119.958977%2Cwgs84; _lxsdk=1602f7112b9c8-09d6e858772c1d8-1b451e24-13c680-1602f7112bac8; uuid=2b6ac2bf-62cf-4ebd-bb68-bd0c258c6b29',\n",
    "           ]\n",
    "cookie = '_lxsdk_cuid=16a2f66fef2c8-04adb68a07ed52-e323069-130980-16a2f66fef2c8; ci=57; rvct=57; _hc.v=1197cd1c-6791-15f8-9279-cd9a57fde16c.1555573509; _lx_utm=utm_source%3Dgoogle%26utm_medium%3Dorganic; _lxsdk=16a2f66fef2c8-04adb68a07ed52-e323069-130980-16a2f66fef2c8; __mta=251043129.1555573459093.1555902899880.1555913774718.3; client-id=dc69c296-2418-478e-bb1c-b5dc4676a0b5; uuid=388dc241-38f9-4e12-bc70-c9898b7c1c1c; _lxsdk_s=16a48f9f2c4-2f-01c-78c%7C%7C38'\n",
    "headers = {\n",
    "  'Accept':'application/json',\n",
    "  'Accept-Encoding': 'gzip, deflate',\n",
    "  'Accept-Language': 'en-US,en;q=0.9,zh-CN;q=0.8,zh;q=0.7',\n",
    "  'Connection': 'keep-alive',\n",
    "  'Cookie': cookie,\n",
    "  'Host': 'wh.meituan.com',\n",
    "  'Referer': 'http://wh.meituan.com/meishi/',\n",
    "  'User-Agent':' Mozilla/5.0 (Windows NT 10.0; Win64; x64) AppleWebKit/537.36 (KHTML, like Gecko) Chrome/73.0.3683.103 Safari/537.36'\n",
    "}\n",
    "URL = 'https://wh.meituan.com/meishi/api/poi/'"
   ]
  },
  {
   "cell_type": "code",
   "execution_count": 3,
   "metadata": {},
   "outputs": [],
   "source": [
    "# Constant\n",
    "client = pymongo.MongoClient(\"mongodb://101.132.171.223:27017/\")\n",
    "db = client['shoprec']\n",
    "totalCount = 1000\n",
    "pageNum = 67"
   ]
  },
  {
   "cell_type": "code",
   "execution_count": 4,
   "metadata": {},
   "outputs": [],
   "source": [
    "class Token():\n",
    "    def __init__(self, cateId, areaId, originUrl, page):\n",
    "        self.areaId = areaId\n",
    "        self.cityName = '武汉'\n",
    "        self.originUrl = originUrl\n",
    "        self.page = page\n",
    "        self.uuid = '765ddffde8444259bfe4.1556036967.1.0.0'\n",
    "        self.cateId = cateId\n",
    "\n",
    "    def join_sign(self):\n",
    "        # 参数\n",
    "        sign = 'cityName={cityName}&areaId={areaId}&cateId={cateId}&dinnerCountAttrId=&optimusCode=1&originUrl={originUrl}&page={page}&partner=126&platform=1&riskLevel=1&sort=&userId=&uuid={uuid}'\n",
    "        _str = sign.format(areaId=self.areaId, cateId=self.cateId, cityName=self.cityName, originUrl=self.originUrl, page=self.page,\n",
    "                           uuid=self.uuid)\n",
    "        sign = base64.b64encode(zlib.compress(bytes(json.dumps(_str, ensure_ascii=False), encoding=\"utf8\")))\n",
    "        sign = str(sign, encoding=\"utf8\")\n",
    "        return sign\n",
    "\n",
    "    @property\n",
    "    def join_token(self):\n",
    "        str_json = {}\n",
    "        str_json['rId'] = 100900\n",
    "        str_json['ver'] = '1.0.6'\n",
    "        str_json['ts'] = time.time()\n",
    "        str_json['cts'] = time.time() + 110\n",
    "        str_json['brVD'] = [1920, 315]\n",
    "        str_json['brR'] = [[1920, 1080], [1920, 1057], 24, 24]\n",
    "        str_json['bI'] = [self.originUrl, \"\"]\n",
    "        str_json['mT'] = []\n",
    "        str_json['kT'] = []\n",
    "        str_json['aT'] = []\n",
    "        str_json['tT'] = []\n",
    "        str_json['aM'] = ''\n",
    "        str_json['sign'] = self.join_sign()\n",
    "        token_decode = zlib.compress(\n",
    "            bytes(json.dumps(str_json, separators=(',', ':'), ensure_ascii=False), encoding=\"utf8\"))\n",
    "        token = str(base64.b64encode(token_decode), encoding=\"utf8\")\n",
    "        return token"
   ]
  },
  {
   "cell_type": "code",
   "execution_count": 5,
   "metadata": {},
   "outputs": [],
   "source": [
    "def getPoiList(cateId, areaId, page, originUrl):\n",
    "    url = URL + 'getPoiList'\n",
    "    _token = Token(cateId, areaId, page, originUrl)\n",
    "    _params = {\n",
    "        'cityName': '武汉',\n",
    "        'cateId': cateId,\n",
    "        'areaId': areaId,\n",
    "        'page': page,\n",
    "        'uuid': '765ddffde8444259bfe4.1556036967.1.0.0',\n",
    "        'originUrl': originUrl,\n",
    "        '_token': _token.join_token,\n",
    "        'platform': 1,\n",
    "        'partner': 126,\n",
    "        'riskLevel': 1,\n",
    "        'optimusCode': 1,\n",
    "        'sort':'',\n",
    "        'dinnerCountAttrId':'',\n",
    "        'userId':''\n",
    "    }\n",
    "    content = requests.get(url, headers=headers, params=_params)\n",
    "    return json.loads(content.text, encoding='utf8')\n",
    "\n",
    "def getType():\n",
    "    col = db['cate']\n",
    "    types = col.find()\n",
    "    return list(types)\n",
    "\n",
    "def getPoiByCate(cate):\n",
    "    name = cate['name']\n",
    "    cateId = cate['cateId']\n",
    "    url = cate['url']\n",
    "    \n",
    "    shops = []\n",
    "    areaId = 0\n",
    "    for page in range(1, pageNum + 1):\n",
    "        originUrl = URL + url + '/pn' + str(page)\n",
    "        res = getPoiList(cateId, areaId, page, originUrl)\n",
    "        data = res['data']['poiInfos']\n",
    "        data = list(map(lambda x: {\n",
    "            'id': x['poiId'],\n",
    "            'title': x['title'],\n",
    "            'address': x['address'],\n",
    "            'avgPrice': x['avgPrice'],\n",
    "            'avgScore': x['avgScore'],\n",
    "            'allCommentNum': x['allCommentNum'],\n",
    "            'cate': name,\n",
    "            'cateId': cateId\n",
    "        }, data))\n",
    "        shops += data\n",
    "    return shops"
   ]
  },
  {
   "cell_type": "code",
   "execution_count": 113,
   "metadata": {},
   "outputs": [],
   "source": [
    "_types = list(map(lambda x: {'name': x['name'], 'cateId': x['cateId'][1:], 'url': x['cateId']}, getType()))"
   ]
  },
  {
   "cell_type": "code",
   "execution_count": 125,
   "metadata": {},
   "outputs": [
    {
     "name": "stdout",
     "output_type": "stream",
     "text": [
      "Getting... 蛋糕甜点 , Total count =  1005\n",
      "Inserting data...\n",
      "Getting... 火锅 , Total count =  1005\n",
      "Inserting data...\n",
      "Getting... 自助餐 , Total count =  189\n",
      "Inserting data...\n",
      "Getting... 小吃快餐 , Total count =  1005\n",
      "Inserting data...\n",
      "Getting... 日韩料理 , Total count =  391\n",
      "Inserting data...\n",
      "Getting... 聚餐宴请 , Total count =  656\n",
      "Inserting data...\n",
      "Getting... 西餐 , Total count =  562\n",
      "Inserting data...\n",
      "Getting... 东北菜 , Total count =  26\n",
      "Inserting data...\n",
      "Getting... 烧烤烤肉 , Total count =  885\n",
      "Inserting data...\n",
      "Getting... 川湘菜 , Total count =  1005\n",
      "Inserting data...\n",
      "Getting... 香锅烤鱼 , Total count =  279\n",
      "Inserting data...\n",
      "Getting... 江浙菜 , Total count =  28\n",
      "Inserting data...\n",
      "Getting... 中式烧烤/烤串 , Total count =  659\n",
      "Inserting data...\n",
      "Getting... 粤菜 , Total count =  119\n",
      "Inserting data...\n",
      "Getting... 咖啡酒吧 , Total count =  424\n",
      "Inserting data...\n",
      "Getting... 西北菜 , Total count =  20\n",
      "Inserting data...\n",
      "Getting... 京菜鲁菜 , Total count =  41\n",
      "Inserting data...\n",
      "Getting... 云贵菜 , Total count =  20\n",
      "Inserting data...\n",
      "Getting... 东南亚菜 , Total count =  32\n",
      "Inserting data...\n",
      "Getting... 海鲜 , Total count =  363\n",
      "Inserting data...\n",
      "Getting... 素食 , Total count =  23\n",
      "Inserting data...\n",
      "Getting... 台湾/客家菜 , Total count =  26\n",
      "Inserting data...\n",
      "Getting... 创意菜 , Total count =  124\n",
      "Inserting data...\n",
      "Getting... 汤/粥/炖菜 , Total count =  110\n",
      "Inserting data...\n",
      "Getting... 蒙餐 , Total count =  3\n",
      "Inserting data...\n",
      "Getting... 新疆菜 , Total count =  22\n",
      "Inserting data...\n"
     ]
    }
   ],
   "source": [
    "for cate in _types:\n",
    "    data = getPoiByCate(cate)\n",
    "    print(\"Getting...\", cate['name'], \", Total count = \", len(data))\n",
    "    col.insert_many(data)\n",
    "    print(\"Inserting data...\")"
   ]
  },
  {
   "cell_type": "code",
   "execution_count": 12,
   "metadata": {},
   "outputs": [],
   "source": [
    "commentUrl = 'http://www.meituan.com/meishi/api/poi/getMerchantComment'\n",
    "url = 'http://www.meituan.com/meishi/'\n",
    "uuid = 'c463a63811ee45109b36.1556376775.1.0.0'\n",
    "proxies = {\n",
    "    \"https\": \"http://111.177.178.164:9999\", \n",
    "    \"http\": \"http://112.85.131.3:9999\"\n",
    "}\n",
    "def getLastComment(x):\n",
    "    _id = x['id']\n",
    "    num = x['allCommentNum']\n",
    "    referer = url + str(_id)\n",
    "    _headers = {\n",
    "    'Accept':'application/json',\n",
    "    'Referer': referer,\n",
    "    'User-Agent': 'Mozilla/5.0 (X11; Linux x86_64) AppleWebKit/537.36 (KHTML, like Gecko) Chrome/48.0.2564.116 Safari/537.36'\n",
    "    }\n",
    "    r = requests.get(commentUrl, params={\n",
    "        'uuid': uuid,\n",
    "        'platform': 1,\n",
    "        'partner': 126,\n",
    "        'originUrl': referer,\n",
    "        'riskLevel': 1,\n",
    "        'optimusCode': 1,\n",
    "        'id': _id,\n",
    "        'userId':'',\n",
    "        'offset': num - 1,\n",
    "        'pageSize': 1,\n",
    "        'sortType': 1\n",
    "    }, headers=_headers)\n",
    "    j = json.loads(r.text, encoding='utf8')\n",
    "    j = j['data']['comments']\n",
    "    if j == None:\n",
    "        x['year'] = 2019\n",
    "        x['month'] = 5\n",
    "        x['day'] = 1\n",
    "        x['duration'] = 0\n",
    "        return x;\n",
    "    j = j[-1]\n",
    "    _time = time.localtime(int(j['commentTime']) / 1000)\n",
    "    x['year'] = _time.tm_year\n",
    "    x['month'] = _time.tm_mon\n",
    "    x['day'] = _time.tm_mday\n",
    "    now = datetime.datetime(2019, 5, 1)\n",
    "    x['duration'] = (now - datetime.datetime(_time.tm_year, _time.tm_mon, _time.tm_mday)).days\n",
    "    return x"
   ]
  },
  {
   "cell_type": "code",
   "execution_count": 7,
   "metadata": {},
   "outputs": [],
   "source": [
    "_col = db['type']\n",
    "data = list(_col.find())"
   ]
  },
  {
   "cell_type": "code",
   "execution_count": 13,
   "metadata": {},
   "outputs": [],
   "source": [
    "# res = []"
   ]
  },
  {
   "cell_type": "code",
   "execution_count": 40,
   "metadata": {},
   "outputs": [
    {
     "ename": "KeyError",
     "evalue": "'data'",
     "output_type": "error",
     "traceback": [
      "\u001b[0;31m---------------------------------------------------------------------------\u001b[0m",
      "\u001b[0;31mKeyError\u001b[0m                                  Traceback (most recent call last)",
      "\u001b[0;32m<ipython-input-40-b05a05586be0>\u001b[0m in \u001b[0;36m<module>\u001b[0;34m\u001b[0m\n\u001b[1;32m      1\u001b[0m \u001b[0;32mfor\u001b[0m \u001b[0mi\u001b[0m \u001b[0;32min\u001b[0m \u001b[0mrange\u001b[0m\u001b[0;34m(\u001b[0m\u001b[0;36m4823\u001b[0m\u001b[0;34m,\u001b[0m \u001b[0mlen\u001b[0m\u001b[0;34m(\u001b[0m\u001b[0mdata\u001b[0m\u001b[0;34m)\u001b[0m\u001b[0;34m)\u001b[0m\u001b[0;34m:\u001b[0m\u001b[0;34m\u001b[0m\u001b[0m\n\u001b[0;32m----> 2\u001b[0;31m     \u001b[0m_res\u001b[0m \u001b[0;34m=\u001b[0m \u001b[0mgetLastComment\u001b[0m\u001b[0;34m(\u001b[0m\u001b[0mdata\u001b[0m\u001b[0;34m[\u001b[0m\u001b[0mi\u001b[0m\u001b[0;34m]\u001b[0m\u001b[0;34m)\u001b[0m\u001b[0;34m\u001b[0m\u001b[0m\n\u001b[0m\u001b[1;32m      3\u001b[0m     \u001b[0mres\u001b[0m\u001b[0;34m.\u001b[0m\u001b[0mappend\u001b[0m\u001b[0;34m(\u001b[0m\u001b[0m_res\u001b[0m\u001b[0;34m)\u001b[0m\u001b[0;34m\u001b[0m\u001b[0m\n\u001b[1;32m      4\u001b[0m     \u001b[0;32mif\u001b[0m \u001b[0mi\u001b[0m \u001b[0;34m%\u001b[0m \u001b[0;36m100\u001b[0m \u001b[0;34m==\u001b[0m \u001b[0;36m0\u001b[0m\u001b[0;34m:\u001b[0m\u001b[0;34m\u001b[0m\u001b[0m\n\u001b[1;32m      5\u001b[0m         \u001b[0mtime\u001b[0m\u001b[0;34m.\u001b[0m\u001b[0msleep\u001b[0m\u001b[0;34m(\u001b[0m\u001b[0mrandom\u001b[0m\u001b[0;34m.\u001b[0m\u001b[0mrandint\u001b[0m\u001b[0;34m(\u001b[0m\u001b[0;36m1\u001b[0m\u001b[0;34m,\u001b[0m \u001b[0;36m3\u001b[0m\u001b[0;34m)\u001b[0m\u001b[0;34m)\u001b[0m\u001b[0;34m\u001b[0m\u001b[0m\n",
      "\u001b[0;32m<ipython-input-12-45997a067013>\u001b[0m in \u001b[0;36mgetLastComment\u001b[0;34m(x)\u001b[0m\n\u001b[1;32m     29\u001b[0m     }, headers=_headers)\n\u001b[1;32m     30\u001b[0m     \u001b[0mj\u001b[0m \u001b[0;34m=\u001b[0m \u001b[0mjson\u001b[0m\u001b[0;34m.\u001b[0m\u001b[0mloads\u001b[0m\u001b[0;34m(\u001b[0m\u001b[0mr\u001b[0m\u001b[0;34m.\u001b[0m\u001b[0mtext\u001b[0m\u001b[0;34m,\u001b[0m \u001b[0mencoding\u001b[0m\u001b[0;34m=\u001b[0m\u001b[0;34m'utf8'\u001b[0m\u001b[0;34m)\u001b[0m\u001b[0;34m\u001b[0m\u001b[0m\n\u001b[0;32m---> 31\u001b[0;31m     \u001b[0mj\u001b[0m \u001b[0;34m=\u001b[0m \u001b[0mj\u001b[0m\u001b[0;34m[\u001b[0m\u001b[0;34m'data'\u001b[0m\u001b[0;34m]\u001b[0m\u001b[0;34m[\u001b[0m\u001b[0;34m'comments'\u001b[0m\u001b[0;34m]\u001b[0m\u001b[0;34m\u001b[0m\u001b[0m\n\u001b[0m\u001b[1;32m     32\u001b[0m     \u001b[0;32mif\u001b[0m \u001b[0mj\u001b[0m \u001b[0;34m==\u001b[0m \u001b[0;32mNone\u001b[0m\u001b[0;34m:\u001b[0m\u001b[0;34m\u001b[0m\u001b[0m\n\u001b[1;32m     33\u001b[0m         \u001b[0mx\u001b[0m\u001b[0;34m[\u001b[0m\u001b[0;34m'year'\u001b[0m\u001b[0;34m]\u001b[0m \u001b[0;34m=\u001b[0m \u001b[0;36m2019\u001b[0m\u001b[0;34m\u001b[0m\u001b[0m\n",
      "\u001b[0;31mKeyError\u001b[0m: 'data'"
     ]
    }
   ],
   "source": [
    "for i in range(4823, len(data)):\n",
    "    _res = getLastComment(data[i])\n",
    "    res.append(_res)\n",
    "    if i % 100 == 0:\n",
    "        time.sleep(random.randint(1, 3))\n",
    "    print(\"Getting...\", i, len(data))"
   ]
  },
  {
   "cell_type": "code",
   "execution_count": 34,
   "metadata": {},
   "outputs": [
    {
     "data": {
      "text/plain": [
       "4826"
      ]
     },
     "execution_count": 34,
     "metadata": {},
     "output_type": "execute_result"
    }
   ],
   "source": [
    "len(res)"
   ]
  },
  {
   "cell_type": "code",
   "execution_count": 35,
   "metadata": {},
   "outputs": [],
   "source": [
    "_res = [dict(t) for t in set([tuple(d.items()) for d in res])]"
   ]
  },
  {
   "cell_type": "code",
   "execution_count": 37,
   "metadata": {},
   "outputs": [],
   "source": [
    "df = pd.io.json.json_normalize(_res)"
   ]
  },
  {
   "cell_type": "code",
   "execution_count": 38,
   "metadata": {},
   "outputs": [],
   "source": [
    "df.to_excel('restautant.xlsx')"
   ]
  },
  {
   "cell_type": "code",
   "execution_count": 39,
   "metadata": {},
   "outputs": [
    {
     "data": {
      "text/plain": [
       "<pymongo.results.InsertManyResult at 0x7f87aac46c08>"
      ]
     },
     "execution_count": 39,
     "metadata": {},
     "output_type": "execute_result"
    }
   ],
   "source": [
    "_col = db['restaurant']\n",
    "_col.insert_many(_res)"
   ]
  },
  {
   "cell_type": "code",
   "execution_count": null,
   "metadata": {},
   "outputs": [],
   "source": []
  }
 ],
 "metadata": {
  "kernelspec": {
   "display_name": "Python 3",
   "language": "python",
   "name": "python3"
  },
  "language_info": {
   "codemirror_mode": {
    "name": "ipython",
    "version": 3
   },
   "file_extension": ".py",
   "mimetype": "text/x-python",
   "name": "python",
   "nbconvert_exporter": "python",
   "pygments_lexer": "ipython3",
   "version": "3.5.2"
  }
 },
 "nbformat": 4,
 "nbformat_minor": 2
}
