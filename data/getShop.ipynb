{
 "cells": [
  {
   "cell_type": "code",
   "execution_count": 6,
   "metadata": {},
   "outputs": [],
   "source": [
    "import pymongo\n",
    "import requests\n",
    "import jieba\n",
    "import jieba.analyse\n",
    "import base64\n",
    "import random\n",
    "import time\n",
    "import zlib\n",
    "import json"
   ]
  },
  {
   "cell_type": "code",
   "execution_count": 8,
   "metadata": {},
   "outputs": [],
   "source": [
    "URL = 'https://wh.meituan.com/meishi/'\n",
    "_cookies = ['_lxsdk_s=b458c64cc9ef92adce92c199a6b7%7C%7C4; __mta=214784936.1512623224439.1512623224439.1512623226558.2; client-id=8d050bd8-51b6-46fc-be96-cb6871d91fe7; ci=89; webloc_geo=31.778615%2C119.958931%2Cwgs84; _lxsdk=1602f5eb154c8-05c63a41825c168-1b451e24-13c680-1602f5eb154c8; uuid=73a65301-f351-4cdd-bfcd-35ae40aea13c',\n",
    "           '_lxsdk_s=55618265813fc43043ce562acf29%7C%7C2; ci=89; __mta=252597174.1512623399814.1512623399814.1512623399814.1; _lxsdk=1602f6161c1c8-034ae66c3842d88-1b451e24-13c680-1602f6161c170; client-id=8ca2fe5f-ba96-41ae-b919-f8d3665e2f10; webloc_geo=31.778620%2C119.958935%2Cwgs84; uuid=ae73c608-8db3-4724-b4bf-91f4a8c701c5',\n",
    "           '_lxsdk_s=4ffb12d5a90c2361745e6d0993a2%7C%7C2; ci=89; __mta=40613533.1512623465821.1512623465821.1512623465821.1; client-id=a31f1c79-3287-4ef1-8bd3-56bfb431a7da; webloc_geo=31.778616%2C119.958936%2Cwgs84; _lxsdk=1602f6262117d-0f173d7fde38d18-1b451e24-13c680-1602f626212c8; uuid=ba1b457e-ae34-4b56-bf7b-9bf3579ac0ae',\n",
    "           '_lxsdk_s=4ba654e682eaf4d69efb90ae9cf1%7C%7C2; __mta=152351622.1512623525333.1512623525333.1512623525333.1; ci=89; client-id=e8101f58-a778-4332-81c2-75ba410b2bb3; webloc_geo=31.778611%2C119.958934%2Cwgs84; _lxsdk=1602f634c448d-0c74adf6d00e2e8-1b451e24-13c680-1602f634c45c8; uuid=e98a7e32-7511-4b40-ab3d-d88011a06471',\n",
    "           '_lxsdk_s=f6511ca715103c33b7bb4aea1e9f%7C%7C2; __mta=40629917.1512623573270.1512623573270.1512623573270.1; ci=89; client-id=c69db65e-b5d1-4fe6-aa7a-340e3608aeb6; webloc_geo=31.778617%2C119.958930%2Cwgs84; _lxsdk=1602f64072fc8-04cf33034885b08-1b451e24-13c680-1602f640730c8; uuid=33b52a9f-14ea-4f80-9a97-8386fc9fb0a2',\n",
    "           '_lxsdk_s=38327d7cfda78d0cfc4810838c32%7C%7C2; __mta=150795529.1512623625315.1512623625315.1512623625315.1; ci=89; client-id=221306b1-bfb7-4cfa-ab3f-2e4a85089864; webloc_geo=31.778610%2C119.958933%2Cwgs84; _lxsdk=1602f64d24531-0623a27320ba75-1b451e24-13c680-1602f64d246c8; uuid=85f7949c-284c-4ae6-b5f8-18aa1c6dc016',\n",
    "           '_lxsdk_s=c2f111bde916cad4d653e07a35c9%7C%7C2; __mta=42950426.1512623702441.1512623702441.1512623702441.1; _lxsdk=1602f66000dc8-0bb60c750cf17b8-1b451e24-13c680-1602f66000d7f; ci=89; client-id=38cc3a86-fe57-491b-8564-c9b1a251cd4a; webloc_geo=31.778617%2C119.958931%2Cwgs84; uuid=095c6c87-a397-4cc4-a3fc-1c3e35eca3be',\n",
    "           '_lxsdk_s=fd711080efee1adf6de57c1d4c88%7C%7C2; ci=89; webloc_geo=31.778612%2C119.958939%2Cwgs84; __mta=218070313.1512623752950.1512623752950.1512623752950.1; _lxsdk=1602f66c53e35-0b363d23b0e435-1b451e24-13c680-1602f66c53fc8; client-id=1a4a2af3-4201-4e61-bf26-92016709444b; uuid=9361e591-ada9-43c0-a762-b7b5559c649a',\n",
    "           '_lxsdk_s=810677247f21b53cd75826e60cb8%7C%7C2; __mta=146594315.1512623869611.1512623869611.1512623869611.1; _lxsdk=1602f688ce80-074a1ec97ff043-1b451e24-13c680-1602f688ce9c8; ci=89; client-id=e60488fa-51fe-4d12-99a3-257a5a0853cc; webloc_geo=31.778609%2C119.958928%2Cwgs84; uuid=948eec52-7d10-46ce-b689-92140842f3f0',\n",
    "           '_lxsdk_s=c44c26606c13c651ab5a20447428%7C%7C2; __mta=89516452.1512623906613.1512623906613.1512623906613.1; _lxsdk=1602f691da0c8-024ebcb15833bc-1b451e24-13c680-1602f691da04b; ci=89; client-id=a6846506-a50a-4612-8106-ff31978802a8; webloc_geo=31.778607%2C119.958929%2Cwgs84; uuid=6ee14a07-2d20-460e-87c2-001806dfdf1b',\n",
    "           '_lxsdk_s=071dfe26ce64d6e46d03323d2f71%7C%7C2; __mta=210099498.1512623985254.1512623985254.1512623985254.1; ci=89; client-id=f2cea0fa-0d83-479a-a863-f2b7156fb392; webloc_geo=31.778621%2C119.958925%2Cwgs84; _lxsdk=1602f6a4f88c8-0ce1602d9c121a-1b451e24-13c680-1602f6a4f88c8; uuid=122a1bf8-f588-4b2d-a509-2bb45aaf1be9',\n",
    "           '_lxsdk_s=833017bd50026c6c57b327f1f51a%7C%7C2; __mta=244702778.1512624031536.1512624031536.1512624031536.1; ci=89; client-id=ec7106e4-9dda-4ce0-aa8d-c12288812644; webloc_geo=31.778622%2C119.958921%2Cwgs84; _lxsdk=1602f6b0459c8-011b3f8b51c9328-1b451e24-13c680-1602f6b045ac8; uuid=04d6dbed-d679-4e9d-a0c7-4ea1b2343513',\n",
    "           '_lxsdk_s=9a68aaba42beb1ebdfc3e726d94e%7C%7C2; ci=89; webloc_geo=31.778629%2C119.958912%2Cwgs84; __mta=45406747.1512624277952.1512624277952.1512624277952.1; _lxsdk=1602f6ec7b84-095c2ecf9438458-1b451e24-13c680-1602f6ec7b9c8; uuid=33acafd1-4a03-4f0f-9572-1ccbfd570efc; client-id=77353c1f-ba56-4ac9-bbb3-c7a689858182',\n",
    "           '_lxsdk_s=c1508df449b0616ba37c5d9166f2%7C%7C2; __mta=216814121.1512624317347.1512624317347.1512624317347.1; ci=89; client-id=5d8e3ff2-5370-4c08-855e-9d26e5187040; webloc_geo=31.778633%2C119.958912%2Cwgs84; _lxsdk=1602f6f6187a2-029abec138ea508-1b451e24-13c680-1602f6f6188c8; uuid=1a808ef4-511d-44ba-acfd-d6339ddb92f8',\n",
    "           '_lxsdk_s=7a249ecc9a048cbb826ea3b1f4e7%7C%7C2; __mta=256753588.1512624355644.1512624355644.1512624355644.1; _lxsdk=1602f6ff822c8-01f025c7119f968-1b451e24-13c680-1602f6ff823c8; ci=89; client-id=33339c7c-4dd0-4da8-8617-add389e72438; webloc_geo=31.778634%2C119.958912%2Cwgs84; uuid=92e531c6-4620-453e-ad8d-0e67644404ad',\n",
    "           '_lxsdk_s=93f6847b5f37e552ae083beb48c2%7C%7C2; __mta=218397606.1512624389136.1512624389136.1512624389136.1; ci=89; client-id=21540b20-0240-48fa-ae1e-c1ce4dba892f; webloc_geo=31.778631%2C119.958925%2Cwgs84; _lxsdk=1602f707a3d3-0d7db668e6d9498-1b451e24-13c680-1602f707a3ec8; uuid=507d006a-6b37-4ff9-9299-88eae1bc0982',\n",
    "           '_lxsdk_s=0ffdd4e2dddd57d3c05606eb82f3%7C%7C2; __mta=141367821.1512624428164.1512624428164.1512624428164.1; ci=89; client-id=d6e8de67-48b8-4262-b3b3-47851c46db5c; webloc_geo=31.778620%2C119.958977%2Cwgs84; _lxsdk=1602f7112b9c8-09d6e858772c1d8-1b451e24-13c680-1602f7112bac8; uuid=2b6ac2bf-62cf-4ebd-bb68-bd0c258c6b29',\n",
    "           ]\n",
    "cookie = '_lxsdk_cuid=16a2f66fef2c8-04adb68a07ed52-e323069-130980-16a2f66fef2c8; ci=57; rvct=57; _hc.v=1197cd1c-6791-15f8-9279-cd9a57fde16c.1555573509; _lx_utm=utm_source%3Dgoogle%26utm_medium%3Dorganic; _lxsdk=16a2f66fef2c8-04adb68a07ed52-e323069-130980-16a2f66fef2c8; __mta=251043129.1555573459093.1555902899880.1555913774718.3; client-id=dc69c296-2418-478e-bb1c-b5dc4676a0b5; uuid=388dc241-38f9-4e12-bc70-c9898b7c1c1c; _lxsdk_s=16a48f9f2c4-2f-01c-78c%7C%7C38'\n",
    "headers = {\n",
    "  'Accept':'application/json',\n",
    "  'Accept-Encoding': 'gzip, deflate',\n",
    "  'Accept-Language': 'en-US,en;q=0.9,zh-CN;q=0.8,zh;q=0.7',\n",
    "  'Connection': 'keep-alive',\n",
    "  'Cookie': cookie,\n",
    "  'Host': 'wh.meituan.com',\n",
    "  'Referer': 'http://wh.meituan.com/meishi/',\n",
    "  'User-Agent':' Mozilla/5.0 (Windows NT 10.0; Win64; x64) AppleWebKit/537.36 (KHTML, like Gecko) Chrome/73.0.3683.103 Safari/537.36'\n",
    "}\n",
    "URL = 'https://wh.meituan.com/meishi/api/poi/'"
   ]
  },
  {
   "cell_type": "code",
   "execution_count": 9,
   "metadata": {},
   "outputs": [],
   "source": [
    "client = pymongo.MongoClient(\"mongodb://101.132.171.223:27017/\")\n",
    "db = client['shoprec']"
   ]
  },
  {
   "cell_type": "code",
   "execution_count": 36,
   "metadata": {},
   "outputs": [],
   "source": [
    "class Token():\n",
    "    def __init__(self, cateId, areaId, originUrl, page, uuid):\n",
    "        self.areaId = areaId\n",
    "        self.cityName = '武汉'\n",
    "        self.originUrl = originUrl\n",
    "        self.page = page\n",
    "        self.uuid = uuid\n",
    "        self.cateId = cateId\n",
    "\n",
    "    def join_sign(self):\n",
    "        # 参数\n",
    "        sign = 'cityName={cityName}&areaId={areaId}&cateId={cateId}&dinnerCountAttrId=&optimusCode=1&originUrl={originUrl}&page={page}&partner=126&platform=1&riskLevel=1&sort=&userId=&uuid={uuid}'\n",
    "        _str = sign.format(areaId=self.areaId, cateId=self.cateId, cityName=self.cityName, originUrl=self.originUrl, page=self.page,\n",
    "                           uuid=self.uuid)\n",
    "        sign = base64.b64encode(zlib.compress(bytes(json.dumps(_str, ensure_ascii=False), encoding=\"utf8\")))\n",
    "        sign = str(sign, encoding=\"utf8\")\n",
    "        return sign\n",
    "\n",
    "    @property\n",
    "    def join_token(self):\n",
    "        str_json = {}\n",
    "        str_json['rId'] = 100900\n",
    "        str_json['ver'] = '1.0.6'\n",
    "        str_json['ts'] = time.time()\n",
    "        str_json['cts'] = time.time() + 110\n",
    "        str_json['brVD'] = [1920, 315]\n",
    "        str_json['brR'] = [[1920, 1080], [1920, 1057], 24, 24]\n",
    "        str_json['bI'] = [self.originUrl, \"\"]\n",
    "        str_json['mT'] = []\n",
    "        str_json['kT'] = []\n",
    "        str_json['aT'] = []\n",
    "        str_json['tT'] = []\n",
    "        str_json['aM'] = ''\n",
    "        str_json['sign'] = self.join_sign()\n",
    "        token_decode = zlib.compress(\n",
    "            bytes(json.dumps(str_json, separators=(',', ':'), ensure_ascii=False), encoding=\"utf8\"))\n",
    "        token = str(base64.b64encode(token_decode), encoding=\"utf8\")\n",
    "        return token"
   ]
  },
  {
   "cell_type": "code",
   "execution_count": 37,
   "metadata": {},
   "outputs": [],
   "source": [
    "def getPoiList(cateId, areaId, page, originUrl, uuid):\n",
    "    url = URL + 'getPoiList'\n",
    "    _token = Token(cateId, areaId, page, originUrl, uuid)\n",
    "    _params = {\n",
    "        'cityName': '武汉',\n",
    "        'cateId': cateId,\n",
    "        'areaId': areaId,\n",
    "        'page': page,\n",
    "        'uuid': uuid,\n",
    "        'originUrl': originUrl,\n",
    "        '_token': _token.join_token,\n",
    "        'platform': 1,\n",
    "        'partner': 126,\n",
    "        'riskLevel': 1,\n",
    "        'optimusCode': 1,\n",
    "        'sort':'',\n",
    "        'dinnerCountAttrId':'',\n",
    "        'userId':''\n",
    "    }\n",
    "    content = requests.get(url, headers=headers, params=_params)\n",
    "    return content"
   ]
  },
  {
   "cell_type": "code",
   "execution_count": 40,
   "metadata": {},
   "outputs": [
    {
     "name": "stdout",
     "output_type": "stream",
     "text": [
      "cityName=武汉&areaId=0&cateId=0&dinnerCountAttrId=&optimusCode=1&originUrl=1&page=http://wh.meituan.com/meishi/&partner=126&platform=1&riskLevel=1&sort=&userId=&uuid=765ddffde8444259bfe4.1556036967.1.0.0\n"
     ]
    }
   ],
   "source": [
    "_uuid = '765ddffde8444259bfe4.1556036967.1.0.0'\n",
    "_content = getPoiList(0, 0, 1, 'http://wh.meituan.com/meishi/', _uuid)"
   ]
  },
  {
   "cell_type": "code",
   "execution_count": 41,
   "metadata": {},
   "outputs": [
    {
     "data": {
      "text/plain": [
       "'{\"status\":0,\"data\":{\"totalCounts\":1000,\"poiInfos\":[{\"poiId\":156646352,\"frontImg\":\"https://img.meituan.net/600.600/msmerchant/6ad42bee5f672aa650913073a0988083282779.jpg\",\"title\":\"BIOBLE 至爱法麦面包\",\"avgScore\":4,\"allCommentNum\":12,\"address\":\"江汉区北湖小路21-29号（罗马假日酒店旁）\",\"avgPrice\":30,\"dealList\":[],\"hasAds\":true,\"adsClickUrl\":\"https://mlog.dianping.com/api/cpv/billing?ad_cj=qYRqym7nsr2D7kApheVTDeaue08Dns-OxBFAESqYmRu-2SyQ2aUtbkAxsAFYF2TgrQvp7l3QJB9fT2j5V9HajpIWBAD1PoGIwWJByCWMhj2Y_Qzpv670YIPADkGrXSTSML8xOOM4jbP9DHbZNFTuwv3nLLkJGRm7U94-eE5fVdZq9SbzFzk1Xrt03_anYRak-EB8pa99-zUKwINzlcyWdk8kcP4NcN_SzPVHyjEkQnzumfyt4wTsfgAEzf-KFzNGfG8MmIGB0oEIReAkwKs-jqx9g0UwAObKYVUyOB5Ui5it5WdYYhkhX_fR0YmpwtppEA5rST_MGJFUTPJ0EKXtqUg8vZPOIowNEbeZuP4BgmqhmU15gVQTRw&sver=2&ad_v=1&ad_ci=qYRqym71bgHTxp6p5qZTEd5Z1HM0SibeGzr0z7tSZZGlxVdWhWtKhlMPE0Bg4tD4gWkU3kdeNrqDxqlogGGh8hQxsGXJdJZm98trifpCGA&act=2\",\"adsShowUrl\":\"https://mlog.dianping.com/api/cpv/action?ad_cj=qYRqym7nsr2D7kApheVTDeaue08Dns-OxBFAESqYmRu-2SyQ2aUtbkAxsAFYF2TgrQvp7l3QJB9fT2j5V9HajpIWBAD1PoGIwWJByCWMhj2Y_Qzpv670YIPADkGrXSTSML8xOOM4jbP9DHbZNFTuwv3nLLkJGRm7U94-eE5fVdZq9SbzFzk1Xrt03_anYRak-EB8pa99-zUKwINzlcyWdk8kcP4NcN_SzPVHyjEkQnzumfyt4wTsfgAEzf-KFzNGfG8MmIGB0oEIReAkwKs-jqx9g0UwAObKYVUyOB5Ui5it5WdYYhkhX_fR0YmpwtppEA5rST_MGJFUTPJ0EKXtqUg8vZPOIowNEbeZuP4BgmqhmU15gVQTRw&sver=2&ad_v=1&ad_ci=qYRqym71bgHTxp6p5qZTEd5Z1HM0SibeGzr0z7tSZZGlxVdWhWtKhlMPE0Bg4tD4gWkU3kdeNrqDxqlogGGh8hQxsGXJdJZm98trifpCGA&act=3\"},{\"poiId\":5172474,\"frontImg\":\"http://p0.meituan.net/600.600/msmerchant/90e8e6cddc7621eedacc6681c0fab6356112414.jpeg\",\"title\":\"禾帕自助餐厅（世贸广场店）\",\"avgScore\":5,\"allCommentNum\":10269,\"address\":\"江汉区解放大道686号世贸广场7层\",\"avgPrice\":75,\"dealList\":[],\"hasAds\":false,\"adsClickUrl\":\"\",\"adsShowUrl\":\"\"},{\"poiId\":6662454,\"frontImg\":\"http://p1.meituan.net/600.600/mogu/830ee650487f7727a160cd23857d742a142872.jpg\",\"title\":\"麻辣小屋（汉商21世纪中心店）\",\"avgScore\":5,\"allCommentNum\":17185,\"address\":\"汉阳区汉阳大道577号汉商21世纪购物中心4层\",\"avgPrice\":34,\"dealList\":[],\"hasAds\":false,\"adsClickUrl\":\"\",\"adsShowUrl\":\"\"},{\"poiId\":158704112,\"frontImg\":\"https://img.meituan.net/600.600/msmerchant/9099b0ba5506ac18e16c7dc929505f3073412.jpg\",\"title\":\"东山真觉生活馆\",\"avgScore\":4.5,\"allCommentNum\":0,\"address\":\"江汉区淮海路泛海国际SOHO城7栋1205\",\"avgPrice\":221,\"dealList\":[],\"hasAds\":true,\"adsClickUrl\":\"https://mlog.dianping.com/api/cpv/billing?ad_cj=20Xy_UmHW1cIT6V4PNr8bjKMG1SuqXrAM13PwFvySch_RkDah1vvLdO9HbZj5ia5jXsvO03H_rUU8VRltpuS8hh-4Se757EN4VuxA9Kz2NCA2WDrPrZdHbz5gh1IU1K9PT6sypvldKcdOfc-h9lqNMRoBNNnCTeLlKcC5jJHMgStNHoYE_piAuQqKZD-kVucwCjI0mzfJH9lv79v9F9-8uxu8x8OWv6Jk88riCPM6hAyVDcJ-AeJ5oJclyqxDJEQtIUZzo-TbEvv8-S5pWqbuwtX59094l__Wf2Rz4anVtnDhmSMdtIz_OOt07Uq3Wt_GuxZ6IRBa0OaGiANqGEasirG9otRf4vCLw1B-f4UjgkP9BqB5SmrqRY&sver=2&ad_v=1&ad_ci=20Xy_UmVh-tYZ7sOX96cbjDpXF_I1sVw7bqaqmXH7f35DeDLfrRLyzhfvtEet_VW3CfyAleyef6504_oobD-mgODjm2we8Zs0I31MiMcMg&act=2\",\"adsShowUrl\":\"https://mlog.dianping.com/api/cpv/action?ad_cj=20Xy_UmHW1cIT6V4PNr8bjKMG1SuqXrAM13PwFvySch_RkDah1vvLdO9HbZj5ia5jXsvO03H_rUU8VRltpuS8hh-4Se757EN4VuxA9Kz2NCA2WDrPrZdHbz5gh1IU1K9PT6sypvldKcdOfc-h9lqNMRoBNNnCTeLlKcC5jJHMgStNHoYE_piAuQqKZD-kVucwCjI0mzfJH9lv79v9F9-8uxu8x8OWv6Jk88riCPM6hAyVDcJ-AeJ5oJclyqxDJEQtIUZzo-TbEvv8-S5pWqbuwtX59094l__Wf2Rz4anVtnDhmSMdtIz_OOt07Uq3Wt_GuxZ6IRBa0OaGiANqGEasirG9otRf4vCLw1B-f4UjgkP9BqB5SmrqRY&sver=2&ad_v=1&ad_ci=20Xy_UmVh-tYZ7sOX96cbjDpXF_I1sVw7bqaqmXH7f35DeDLfrRLyzhfvtEet_VW3CfyAleyef6504_oobD-mgODjm2we8Zs0I31MiMcMg&act=3\"},{\"poiId\":1496465,\"frontImg\":\"https://img.meituan.net/600.600/msmerchant/43775a0cc03cf0929ddb87424a06dd2413846.jpg\",\"title\":\"东北人烤肉之火石肉堂（汉商21世纪中心店）\",\"avgScore\":5,\"allCommentNum\":9672,\"address\":\"汉阳区汉阳大道577号汉商21世纪购物中心4层\",\"avgPrice\":48,\"dealList\":[],\"hasAds\":false,\"adsClickUrl\":\"\",\"adsShowUrl\":\"\"},{\"poiId\":5151532,\"frontImg\":\"http://p0.meituan.net/600.600/deal/__37007504__1693497.jpg\",\"title\":\"六婆串串香（汉口城市广场店）\",\"avgScore\":4.7,\"allCommentNum\":6991,\"address\":\"江岸区后湖大道111号汉口城市广场1层（外围）\",\"avgPrice\":57,\"dealList\":[],\"hasAds\":false,\"adsClickUrl\":\"\",\"adsShowUrl\":\"\"},{\"poiId\":41512562,\"frontImg\":\"https://img.meituan.net/600.600/msmerchant/fdb80fcf76ac07862bb9b56e58ca8f827909312.jpg\",\"title\":\"半暖时光翻糖蛋糕&定制甜品台（中山公园店）\",\"avgScore\":3.8,\"allCommentNum\":28,\"address\":\"江汉区解放大道武展东路崇光sogo写字楼A座2408号（2号线中山公园地铁B2出口）\",\"avgPrice\":205,\"dealList\":[],\"hasAds\":true,\"adsClickUrl\":\"https://mlog.dianping.com/api/cpv/billing?ad_cj=WEcAWMTZ7Y2NjWbC95lzQDoDc9RS_Qm6Vot1cA-lyqnpn_s84qwlDTf85WzzroMjv0YqJ_ualqwkUg1QDWcP49CeWP1421PIIWeTE5c_D_6tvI0gtMM8ZC32Ny8paVeuTWZP3Vlfya9bCIq5x47zfqxFB_Pf6TRXLjM9Rz0HyPOZqKbZ9wxou7I7c0d5J0-U4hIA-3H3u4ur9NHNvRp-WW_xWqmwJurkx6KaKHslfjDZXTpyPzjAWy-h4ZBic3DTieDvgGYk_iBrrXScJDlDR45HiLXpdOXzBbi3MPbkHssityKqwQAHYxmrOsm7xGKvODOvu6h51fYkA3s7z0E7fAYc3dQShhxKsVeWIYyvpEn7hqf0q22JpA&sver=2&ad_v=1&ad_ci=WEcAWMTLMTHdpfk-lZpzQMP0I6vcBc0J0XufjpnuH499q0jX7-Q9SzPXbM2zYKInprZpMayeCpPZlM8E_dXPrLD8BZ2q1PuFOg&act=2\",\"adsShowUrl\":\"https://mlog.dianping.com/api/cpv/action?ad_cj=WEcAWMTZ7Y2NjWbC95lzQDoDc9RS_Qm6Vot1cA-lyqnpn_s84qwlDTf85WzzroMjv0YqJ_ualqwkUg1QDWcP49CeWP1421PIIWeTE5c_D_6tvI0gtMM8ZC32Ny8paVeuTWZP3Vlfya9bCIq5x47zfqxFB_Pf6TRXLjM9Rz0HyPOZqKbZ9wxou7I7c0d5J0-U4hIA-3H3u4ur9NHNvRp-WW_xWqmwJurkx6KaKHslfjDZXTpyPzjAWy-h4ZBic3DTieDvgGYk_iBrrXScJDlDR45HiLXpdOXzBbi3MPbkHssityKqwQAHYxmrOsm7xGKvODOvu6h51fYkA3s7z0E7fAYc3dQShhxKsVeWIYyvpEn7hqf0q22JpA&sver=2&ad_v=1&ad_ci=WEcAWMTLMTHdpfk-lZpzQMP0I6vcBc0J0XufjpnuH499q0jX7-Q9SzPXbM2zYKInprZpMayeCpPZlM8E_dXPrLD8BZ2q1PuFOg&act=3\"},{\"poiId\":40962756,\"frontImg\":\"http://p1.meituan.net/600.600/poi/45027a9c17974a79580eec4be48bb1fb156790.jpg\",\"title\":\"鱼乐活鱼现烤（佰港城店）\",\"avgScore\":5,\"allCommentNum\":13879,\"address\":\"洪山区文治街与丁字桥南路交叉路口东南角佰港城4层4-010室（银兴菲林国际影城）\",\"avgPrice\":45,\"dealList\":[],\"hasAds\":false,\"adsClickUrl\":\"\",\"adsShowUrl\":\"\"},{\"poiId\":42013159,\"frontImg\":\"http://p1.meituan.net/600.600/mogu/522010a2ab77a77a7d926c2f43bb4ec5108428.jpg\",\"title\":\"海乐汇小海鲜（常青店）\",\"avgScore\":5,\"allCommentNum\":12252,\"address\":\"东西湖区金银潭大道永旺梦乐城一楼\",\"avgPrice\":50,\"dealList\":[],\"hasAds\":false,\"adsClickUrl\":\"\",\"adsShowUrl\":\"\"},{\"poiId\":179661198,\"frontImg\":\"https://img.meituan.net/600.600/msmerchant/b51e37b62f622a89bb1b73c40851f55c181556.jpg\",\"title\":\"竹花醉主题餐厅\",\"avgScore\":4.1,\"allCommentNum\":511,\"address\":\"江汉区江汉路步行街一食万巷3楼\",\"avgPrice\":61,\"dealList\":[],\"hasAds\":true,\"adsClickUrl\":\"https://mlog.dianping.com/api/cpv/billing?ad_cj=P7D0iPnQu8r6OArX8dixsfiLHhD43j6CAgHHir2zZTRBZUd4WKx6XKtyTeViB4gDzpMz-urpnSRPxTdw1vDcXLX4_JqMrzGTHdafejadO9CsIHFwKLA48OJZM6_w0a8grT0Bkkev2DKgcJzdl-KTQne7gq5edqqTAUh0lmFJ0CSDcAF2RZnPpmJ8FSUhEyGFW0YnNfK1-DsCKtRmaFRi0Zy70t1vwAMNUVkTdt7PgXvntqdBpdSEJ8w9FhtTUdr6Jq51F1yQIs6TKgcg2SGqs-t61PRUJcGNnKEv_ibCULDK8d9l8aswWORpjFusJuECr3E91flZ69cN4ZA1q0X8p3IStuYV7gH9Bhh8tcjbykpSMOQ6E30QySY&sver=2&ad_v=1&ad_ci=P7D0iPnCZ3aqEJTdkpuhrQDR7OiuBzYpYwXG0aGYLMUZayddPBHhFTBROc6Gb586_UKKweP_mA1Fdm4Wp93LOxfqZ2t4eMYaeE1zMJpvGcg&act=2\",\"adsShowUrl\":\"https://mlog.dianping.com/api/cpv/action?ad_cj=P7D0iPnQu8r6OArX8dixsfiLHhD43j6CAgHHir2zZTRBZUd4WKx6XKtyTeViB4gDzpMz-urpnSRPxTdw1vDcXLX4_JqMrzGTHdafejadO9CsIHFwKLA48OJZM6_w0a8grT0Bkkev2DKgcJzdl-KTQne7gq5edqqTAUh0lmFJ0CSDcAF2RZnPpmJ8FSUhEyGFW0YnNfK1-DsCKtRmaFRi0Zy70t1vwAMNUVkTdt7PgXvntqdBpdSEJ8w9FhtTUdr6Jq51F1yQIs6TKgcg2SGqs-t61PRUJcGNnKEv_ibCULDK8d9l8aswWORpjFusJuECr3E91flZ69cN4ZA1q0X8p3IStuYV7gH9Bhh8tcjbykpSMOQ6E30QySY&sver=2&ad_v=1&ad_ci=P7D0iPnCZ3aqEJTdkpuhrQDR7OiuBzYpYwXG0aGYLMUZayddPBHhFTBROc6Gb586_UKKweP_mA1Fdm4Wp93LOxfqZ2t4eMYaeE1zMJpvGcg&act=3\"},{\"poiId\":2469846,\"frontImg\":\"http://p1.meituan.net/600.600/deal/__8416295__1150942.jpg\",\"title\":\"墨记烤牛蛙（悦荟广场店）\",\"avgScore\":5,\"allCommentNum\":17515,\"address\":\"江汉区民生路176号悦荟广场B座1层b276室（地铁2号线江汉路站）\",\"avgPrice\":14,\"dealList\":[],\"hasAds\":false,\"adsClickUrl\":\"\",\"adsShowUrl\":\"\"},{\"poiId\":5136959,\"frontImg\":\"http://p1.meituan.net/600.600/mogu/3fad2c269f26657ba8b1eb63489bc01725467.jpg\",\"title\":\"舍得火锅（红钢城总店）\",\"avgScore\":5,\"allCommentNum\":3672,\"address\":\"青山区红钢城市政侧路52号（速8酒店对面）\",\"avgPrice\":59,\"dealList\":[],\"hasAds\":false,\"adsClickUrl\":\"\",\"adsShowUrl\":\"\"},{\"poiId\":165010622,\"frontImg\":\"https://img.meituan.net/600.600/msmerchant/44a50167dd5fe9bf740be0aace30d22c1012742.png\",\"title\":\"北京阳坊胜利涮羊肉·烧烤\",\"avgScore\":4.4,\"allCommentNum\":53,\"address\":\"江汉区建设大道715号银泉大厦一层（近地铁七号线取水楼站C2出口，太子卡酷KTV旁）\",\"avgPrice\":75,\"dealList\":[],\"hasAds\":true,\"adsClickUrl\":\"https://mlog.dianping.com/api/cpv/billing?ad_cj=V9NV93huNoAy1ycbqvnSmnkNtYxYaLTJ0v0cfZR8_x78S3GAF_kmt8RshNxxIUEB1nqlKNFB5Q6bAKmMuee4Yg63-IWprdMDiVRKxKYOTx5mM1Fbg9WEQJNfZkhWcGalaBcdcLBMmAiqRW_Ay-7QcJ3GCRryCTeW6Wff07_iX42UeO6r-ikm8oJ3NQWRo-7_U7JcCphd4yOGpogUcjkr6MVSe-FpCh-lza6UAv07E2AyQuUHJKSWtNpStZIaR1Yeamwjv-wzoQHbydFrVxUyNXM77fKk3_7ho9eFuKPvHG_X6ixB5mORFF3vR36NhwfaEWXnFp5fBU0-jyVpiSPCcVqp3wI7BrkdsaBtfu4WLzNpX6kIwUpx&sver=2&ad_v=1&ad_ci=V9NV93h86jxiMR1l0Q_XpbQNv24gmuL33o3pVp0ZGDiEMpj9CbmHks03yEZ4O1qMslfN2N_tPNOEh-bv27c7DiTjhp87ckA&act=2\",\"adsShowUrl\":\"https://mlog.dianping.com/api/cpv/action?ad_cj=V9NV93huNoAy1ycbqvnSmnkNtYxYaLTJ0v0cfZR8_x78S3GAF_kmt8RshNxxIUEB1nqlKNFB5Q6bAKmMuee4Yg63-IWprdMDiVRKxKYOTx5mM1Fbg9WEQJNfZkhWcGalaBcdcLBMmAiqRW_Ay-7QcJ3GCRryCTeW6Wff07_iX42UeO6r-ikm8oJ3NQWRo-7_U7JcCphd4yOGpogUcjkr6MVSe-FpCh-lza6UAv07E2AyQuUHJKSWtNpStZIaR1Yeamwjv-wzoQHbydFrVxUyNXM77fKk3_7ho9eFuKPvHG_X6ixB5mORFF3vR36NhwfaEWXnFp5fBU0-jyVpiSPCcVqp3wI7BrkdsaBtfu4WLzNpX6kIwUpx&sver=2&ad_v=1&ad_ci=V9NV93h86jxiMR1l0Q_XpbQNv24gmuL33o3pVp0ZGDiEMpj9CbmHks03yEZ4O1qMslfN2N_tPNOEh-bv27c7DiTjhp87ckA&act=3\"},{\"poiId\":4177212,\"frontImg\":\"http://p1.meituan.net/600.600/mogu/312727d3154973a356a417931a3da85460210.jpg\",\"title\":\"楚香巴土印象（群星城店）\",\"avgScore\":5,\"allCommentNum\":4143,\"address\":\"武昌区徐东大街120号群星城4层\",\"avgPrice\":48,\"dealList\":[],\"hasAds\":false,\"adsClickUrl\":\"\",\"adsShowUrl\":\"\"},{\"poiId\":5568574,\"frontImg\":\"http://p1.meituan.net/600.600/mogu/dadbdd8c333149800879a3422db0d0fd259197.jpg\",\"title\":\"李二鲜鱼村（民族店）\",\"avgScore\":4.8,\"allCommentNum\":5356,\"address\":\"洪山区民族大道中南财经政法大学旁（东山头车站背后）\",\"avgPrice\":30,\"dealList\":[],\"hasAds\":false,\"adsClickUrl\":\"\",\"adsShowUrl\":\"\"}]}}'"
      ]
     },
     "execution_count": 41,
     "metadata": {},
     "output_type": "execute_result"
    }
   ],
   "source": [
    "_content.text"
   ]
  },
  {
   "cell_type": "code",
   "execution_count": null,
   "metadata": {},
   "outputs": [],
   "source": []
  }
 ],
 "metadata": {
  "kernelspec": {
   "display_name": "Python 3",
   "language": "python",
   "name": "python3"
  },
  "language_info": {
   "codemirror_mode": {
    "name": "ipython",
    "version": 3
   },
   "file_extension": ".py",
   "mimetype": "text/x-python",
   "name": "python",
   "nbconvert_exporter": "python",
   "pygments_lexer": "ipython3",
   "version": "3.5.2"
  }
 },
 "nbformat": 4,
 "nbformat_minor": 2
}
