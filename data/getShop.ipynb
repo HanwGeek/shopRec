{
 "cells": [
  {
   "cell_type": "code",
   "execution_count": 19,
   "metadata": {},
   "outputs": [],
   "source": [
    "from bs4 import BeautifulSoup\n",
    "from selenium import webdriver\n",
    "import pymongo\n",
    "import jieba\n",
    "import jieba.analyse\n",
    "# import synonyms\n",
    "import time"
   ]
  },
  {
   "cell_type": "code",
   "execution_count": 37,
   "metadata": {},
   "outputs": [
    {
     "name": "stderr",
     "output_type": "stream",
     "text": [
      "/usr/local/lib/python3.5/dist-packages/ipykernel_launcher.py:5: DeprecationWarning: use options instead of chrome_options\n",
      "  \"\"\"\n"
     ]
    }
   ],
   "source": [
    "URL = 'https://wh.meituan.com/meishi/'\n",
    "ops = webdriver.ChromeOptions()\n",
    "ops.add_argument('--headless')\n",
    "ops.add_argument('--no-sandbox')\n",
    "driver = webdriver.Chrome(chrome_options=ops)\n",
    "# driver.implicitly_wait(5)"
   ]
  },
  {
   "cell_type": "code",
   "execution_count": 126,
   "metadata": {},
   "outputs": [],
   "source": [
    "client = pymongo.MongoClient(\"mongodb://101.132.171.223:27017/\")\n",
    "db = client['shoprec']"
   ]
  },
  {
   "cell_type": "code",
   "execution_count": 121,
   "metadata": {},
   "outputs": [],
   "source": [
    "# Utils\n",
    "def getTypes():\n",
    "    driver = webdriver.Chrome(chrome_options=ops)\n",
    "    driver.get(URL)\n",
    "    soup = BeautifulSoup(driver.page_source, 'html.parser')\n",
    "    body = soup.body\n",
    "    _types = body.find('div', attrs={'data-reactid': '17'})\n",
    "    _a = _types.contents[2].find_all('a')\n",
    "    types = list(filter(typeFilter, (map(lambda x : {'name': x.text, 'index': x['href'].split('/')[-2]}, _a))))\n",
    "    return types\n",
    "    \n",
    "def typeFilter(x):\n",
    "    return x['name'] != '代金券' and x['name'] != '其他美食'\n",
    "\n",
    "def flat(l):\n",
    "    for k in l:\n",
    "        if not isinstance(k, (list, tuple)):\n",
    "            yield k\n",
    "        else:\n",
    "            yield from flat(k)\n",
    "            \n",
    "def writeList(content, filename):\n",
    "    f = open(filename, 'w', encoding='utf8')\n",
    "    f.truncate()\n",
    "    contents_to_write = list(map(lambda x : x + '\\n', content))\n",
    "    contents_to_write[-1] = contents_to_write[-1].strip('\\n')\n",
    "    f.writelines(contents_to_write)\n",
    "    f.close()\n",
    "    \n",
    "def readList(filename):\n",
    "    f = open(filename, 'r', encoding='utf8')\n",
    "    contents = list(map(lambda x: x.strip(), list(f)))\n",
    "    return contents"
   ]
  },
  {
   "cell_type": "code",
   "execution_count": 122,
   "metadata": {},
   "outputs": [
    {
     "name": "stderr",
     "output_type": "stream",
     "text": [
      "/usr/local/lib/python3.5/dist-packages/ipykernel_launcher.py:3: DeprecationWarning: use options instead of chrome_options\n",
      "  This is separate from the ipykernel package so we can avoid doing imports until\n"
     ]
    }
   ],
   "source": [
    "_types = getTypes()"
   ]
  },
  {
   "cell_type": "code",
   "execution_count": 127,
   "metadata": {},
   "outputs": [
    {
     "data": {
      "text/plain": [
       "<pymongo.results.InsertManyResult at 0x7fb17e694d08>"
      ]
     },
     "execution_count": 127,
     "metadata": {},
     "output_type": "execute_result"
    }
   ],
   "source": [
    "col = db['type']\n",
    "col.insert_many(_types)"
   ]
  },
  {
   "cell_type": "code",
   "execution_count": 128,
   "metadata": {},
   "outputs": [],
   "source": [
    "x = ['1', '2', '3']"
   ]
  },
  {
   "cell_type": "code",
   "execution_count": null,
   "metadata": {},
   "outputs": [],
   "source": []
  }
 ],
 "metadata": {
  "kernelspec": {
   "display_name": "Python 3",
   "language": "python",
   "name": "python3"
  },
  "language_info": {
   "codemirror_mode": {
    "name": "ipython",
    "version": 3
   },
   "file_extension": ".py",
   "mimetype": "text/x-python",
   "name": "python",
   "nbconvert_exporter": "python",
   "pygments_lexer": "ipython3",
   "version": "3.5.2"
  }
 },
 "nbformat": 4,
 "nbformat_minor": 2
}
