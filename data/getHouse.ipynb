{
 "cells": [
  {
   "cell_type": "code",
   "execution_count": 1,
   "metadata": {},
   "outputs": [],
   "source": [
    "from bs4 import BeautifulSoup\n",
    "from selenium import webdriver\n",
    "import pymongo\n",
    "# import synonyms\n",
    "import time\n",
    "import random\n",
    "\n",
    "ops = webdriver.ChromeOptions()\n",
    "ops.add_argument('--headless')\n",
    "ops.add_argument('--no-sandbox')\n",
    "driver = webdriver.Chrome(options=ops)\n",
    "# driver.implicitly_wait(5)"
   ]
  },
  {
   "cell_type": "code",
   "execution_count": 2,
   "metadata": {},
   "outputs": [],
   "source": [
    "URL = 'https://wh.58.com/shangpucz/pn'\n",
    "client = pymongo.MongoClient(\"mongodb://101.132.171.223:27017/\")\n",
    "db = client['shoprec']\n",
    "col = db['house']"
   ]
  },
  {
   "cell_type": "code",
   "execution_count": 3,
   "metadata": {},
   "outputs": [],
   "source": [
    "PAGE_NUM = 70\n",
    "def getHouse(idx):\n",
    "    driver = webdriver.Chrome(options=ops)\n",
    "    url = URL + str(idx)\n",
    "    print(url)\n",
    "    driver.get(url)\n",
    "    soup = BeautifulSoup(driver.page_source, 'html.parser')\n",
    "    body = soup.body\n",
    "    ul = body.find('ul', attrs={'class': 'house-list-wrap'})\n",
    "    lis = ul.find_all('li')\n",
    "    return list(map(getInfo, lis))\n",
    "    \n",
    "def getInfo(li):\n",
    "    info = li.contents[3]\n",
    "    price_info = li.contents[7]\n",
    "    title = info.find('span', attrs={'class': 'title_des'}).text\n",
    "    price = price_info.find('b').text\n",
    "    baseInfo = info.find_all('p', attrs={'class': 'baseinfo'})\n",
    "    _type = \"\"\n",
    "    if len(baseInfo[0]) == 7:       \n",
    "        area = baseInfo[0].contents[1].text\n",
    "        _type = baseInfo[0].contents[3].text\n",
    "        status = baseInfo[0].contents[5].text\n",
    "    elif len(baseInfo[0]) == 5:\n",
    "        area = baseInfo[0].contents[1].text\n",
    "        status = baseInfo[0].contents[3].text  \n",
    "    location = baseInfo[1].contents[1].text\n",
    "    address = \"\"\n",
    "    if len(baseInfo[1]) == 7:\n",
    "        address = baseInfo[1].contents[3].text\n",
    "    tags_info = info.find('p', attrs={'class': 'tag-wrap'})\n",
    "    tags = []\n",
    "    if tags_info != None:\n",
    "        tags = tags_info.find_all('span')\n",
    "        tags = list(map(lambda x: x.text, tags))\n",
    "    return {\n",
    "        'title': title,\n",
    "        'price': price,\n",
    "        'area': area,\n",
    "        'type': _type,\n",
    "        'location': location,\n",
    "        'address': address,\n",
    "        'status': status,\n",
    "        'tags': tags\n",
    "    }"
   ]
  },
  {
   "cell_type": "code",
   "execution_count": null,
   "metadata": {},
   "outputs": [
    {
     "name": "stdout",
     "output_type": "stream",
     "text": [
      "https://wh.58.com/shangpucz/pn1\n",
      "Insertting...\n",
      "https://wh.58.com/shangpucz/pn2\n",
      "Insertting...\n",
      "https://wh.58.com/shangpucz/pn3\n"
     ]
    }
   ],
   "source": [
    "for i in range(1, PAGE_NUM + 1):\n",
    "    data = getHouse(i)\n",
    "    col.insert_many(data)\n",
    "    print(\"Insertting...\")\n",
    "    time.sleep(random.randint(1, 5))"
   ]
  },
  {
   "cell_type": "code",
   "execution_count": null,
   "metadata": {},
   "outputs": [],
   "source": []
  }
 ],
 "metadata": {
  "kernelspec": {
   "display_name": "Python 3",
   "language": "python",
   "name": "python3"
  },
  "language_info": {
   "codemirror_mode": {
    "name": "ipython",
    "version": 3
   },
   "file_extension": ".py",
   "mimetype": "text/x-python",
   "name": "python",
   "nbconvert_exporter": "python",
   "pygments_lexer": "ipython3",
   "version": "3.5.2"
  }
 },
 "nbformat": 4,
 "nbformat_minor": 2
}
