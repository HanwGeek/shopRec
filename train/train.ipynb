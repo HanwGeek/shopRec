{
 "cells": [
  {
   "cell_type": "code",
   "execution_count": 148,
   "metadata": {},
   "outputs": [],
   "source": [
    "import pandas as pd\n",
    "import xgboost as xgb\n",
    "import pymongo"
   ]
  },
  {
   "cell_type": "code",
   "execution_count": 100,
   "metadata": {},
   "outputs": [],
   "source": [
    "df = pd.read_excel('restautant.xlsx')"
   ]
  },
  {
   "cell_type": "code",
   "execution_count": 101,
   "metadata": {},
   "outputs": [],
   "source": [
    "client = pymongo.MongoClient(\"mongodb://101.132.171.223:27017/\")\n",
    "db = client['shoprec']\n",
    "col = db['cate']\n",
    "types = list(col.find())\n",
    "types = list(map(lambda x: x['name'], types))\n",
    "_type = {}\n",
    "for i in range(0, len(types)):\n",
    "    _type[types[i]] = i + 1\n",
    "df['cate'].replace(_type, inplace=True)"
   ]
  },
  {
   "cell_type": "code",
   "execution_count": 133,
   "metadata": {},
   "outputs": [],
   "source": [
    "_df = df"
   ]
  },
  {
   "cell_type": "code",
   "execution_count": 134,
   "metadata": {},
   "outputs": [],
   "source": [
    "_df = _df.drop(['_id', 'year', 'month', 'day', 'title', 'address', 'id', 'Unnamed: 0', 'cateId'], axis=1)"
   ]
  },
  {
   "cell_type": "code",
   "execution_count": 154,
   "metadata": {},
   "outputs": [],
   "source": [
    "_df = _df[_df['allCommentNum'] != 0]\n",
    "_df = _df[_df['avgPrice'] != 0]\n",
    "_df = _df[_df['duration'] != 0]"
   ]
  },
  {
   "cell_type": "code",
   "execution_count": 162,
   "metadata": {},
   "outputs": [],
   "source": [
    "label = _df['avgScore'] * _df['allCommentNum']\n",
    "_df = _df.drop(['avgScore', 'allCommentNum'], axis=1)"
   ]
  },
  {
   "cell_type": "code",
   "execution_count": 166,
   "metadata": {},
   "outputs": [],
   "source": [
    "data = _df.values"
   ]
  },
  {
   "cell_type": "code",
   "execution_count": 167,
   "metadata": {},
   "outputs": [
    {
     "data": {
      "text/plain": [
       "array([[2.80000000e+01, 6.00000000e+00, 8.17000000e+02, 3.04694480e+01,\n",
       "        1.14120743e+02],\n",
       "       [3.70000000e+01, 1.00000000e+00, 2.95000000e+02, 3.05925850e+01,\n",
       "        1.14364138e+02],\n",
       "       [3.40000000e+01, 2.00000000e+00, 1.10000000e+01, 3.05598190e+01,\n",
       "        1.14212040e+02],\n",
       "       ...,\n",
       "       [4.90000000e+01, 1.00000000e+01, 1.31800000e+03, 3.04926630e+01,\n",
       "        1.14410577e+02],\n",
       "       [6.20000000e+01, 9.00000000e+00, 3.20000000e+01, 3.05595560e+01,\n",
       "        1.14335059e+02],\n",
       "       [2.20000000e+01, 1.10000000e+01, 3.18000000e+02, 3.05323850e+01,\n",
       "        1.14357082e+02]])"
      ]
     },
     "execution_count": 167,
     "metadata": {},
     "output_type": "execute_result"
    }
   ],
   "source": [
    "data"
   ]
  },
  {
   "cell_type": "code",
   "execution_count": null,
   "metadata": {},
   "outputs": [],
   "source": []
  }
 ],
 "metadata": {
  "kernelspec": {
   "display_name": "Python 3",
   "language": "python",
   "name": "python3"
  },
  "language_info": {
   "codemirror_mode": {
    "name": "ipython",
    "version": 3
   },
   "file_extension": ".py",
   "mimetype": "text/x-python",
   "name": "python",
   "nbconvert_exporter": "python",
   "pygments_lexer": "ipython3",
   "version": "3.5.2"
  }
 },
 "nbformat": 4,
 "nbformat_minor": 2
}
