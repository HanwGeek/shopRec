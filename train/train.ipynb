{
 "cells": [
  {
   "cell_type": "code",
   "execution_count": 21,
   "metadata": {},
   "outputs": [],
   "source": [
    "import pandas as pd\n",
    "import xgboost as xgb\n",
    "import jieba\n",
    "import pymongo"
   ]
  },
  {
   "cell_type": "code",
   "execution_count": 63,
   "metadata": {},
   "outputs": [],
   "source": [
    "df = pd.read_excel('restautant.xlsx')"
   ]
  },
  {
   "cell_type": "code",
   "execution_count": 113,
   "metadata": {},
   "outputs": [],
   "source": [
    "reps = {\n",
    "  '东北菜': '地方菜',\n",
    "  '江浙菜': '地方菜',\n",
    "  '粤菜': '地方菜',\n",
    "  '西北菜': '地方菜',\n",
    "  '京菜鲁菜': '地方菜',\n",
    "  '云贵菜': '地方菜',\n",
    "  '东南亚菜': '地方菜',\n",
    "  '台湾/客家菜': '地方菜',\n",
    "  '蒙餐': '地方菜',\n",
    "  '新疆菜': '地方菜'\n",
    "}\n",
    "  \n",
    "df['cate'].replace(reps, inplace=True)\n",
    "client = pymongo.MongoClient(\"mongodb://101.132.171.223:27017/\")\n",
    "db = client['shoprec']\n",
    "col = db['cate']\n",
    "\n",
    "types = list(col.find())\n",
    "types = list(map(lambda x: x['name'], types))\n",
    "_types = []\n",
    "cate_rep = list(reps.keys())\n",
    "for _t in types:\n",
    "  if _t not in cate_rep:\n",
    "    _types.append(_t)\n",
    "_types.append('地方菜')\n",
    "\n",
    "_type = {}\n",
    "for i in range(0, len(_types)):\n",
    "    _type[_types[i]] = i + 1\n",
    "df['cate'].replace(_type, inplace=True)"
   ]
  },
  {
   "cell_type": "code",
   "execution_count": 114,
   "metadata": {},
   "outputs": [],
   "source": [
    "_df = df"
   ]
  },
  {
   "cell_type": "code",
   "execution_count": 115,
   "metadata": {},
   "outputs": [],
   "source": [
    "_df = _df.drop(['_id', 'year', 'month', 'day', 'address', 'id', 'cateId'], axis=1)"
   ]
  },
  {
   "cell_type": "code",
   "execution_count": 116,
   "metadata": {},
   "outputs": [],
   "source": [
    "_df = _df[_df['allCommentNum'] != 0]\n",
    "_df = _df[_df['avgPrice'] != 0]\n",
    "_df = _df[_df['duration'] != 0]"
   ]
  },
  {
   "cell_type": "code",
   "execution_count": 117,
   "metadata": {},
   "outputs": [],
   "source": [
    "label = _df['avgScore'] * _df['allCommentNum']\n",
    "_df = _df.drop(['avgScore', 'allCommentNum'], axis=1)"
   ]
  },
  {
   "cell_type": "code",
   "execution_count": 166,
   "metadata": {},
   "outputs": [],
   "source": [
    "data = _df.values"
   ]
  },
  {
   "cell_type": "code",
   "execution_count": 139,
   "metadata": {},
   "outputs": [],
   "source": [
    "types_data = _df.apply(lambda x: {\n",
    "  'title': x['title'],\n",
    "  'cate': x['cate']\n",
    "}, axis=1)"
   ]
  },
  {
   "cell_type": "code",
   "execution_count": 166,
   "metadata": {},
   "outputs": [],
   "source": [
    "data = list(_df.groupby(['cate']))\n",
    "data = list(map(lambda x: list(x[1].title), data))"
   ]
  },
  {
   "cell_type": "code",
   "execution_count": 168,
   "metadata": {},
   "outputs": [],
   "source": [
    "def parseType(x):\n",
    "  pass"
   ]
  },
  {
   "cell_type": "code",
   "execution_count": 172,
   "metadata": {},
   "outputs": [
    {
     "data": {
      "text/plain": [
       "'山陕面馆'"
      ]
     },
     "execution_count": 172,
     "metadata": {},
     "output_type": "execute_result"
    }
   ],
   "source": []
  },
  {
   "cell_type": "code",
   "execution_count": null,
   "metadata": {},
   "outputs": [],
   "source": []
  }
 ],
 "metadata": {
  "kernelspec": {
   "display_name": "Python 3",
   "language": "python",
   "name": "python3"
  },
  "language_info": {
   "codemirror_mode": {
    "name": "ipython",
    "version": 3
   },
   "file_extension": ".py",
   "mimetype": "text/x-python",
   "name": "python",
   "nbconvert_exporter": "python",
   "pygments_lexer": "ipython3",
   "version": "3.6.6"
  }
 },
 "nbformat": 4,
 "nbformat_minor": 2
}
